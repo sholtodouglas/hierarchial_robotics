{
 "cells": [
  {
   "cell_type": "code",
   "execution_count": 1,
   "metadata": {},
   "outputs": [],
   "source": [
    "import gym\n",
    "import pointMass\n",
    "import numpy as np\n",
    "import torch\n",
    "import torch.nn as nn\n",
    "import torch.nn.functional as F\n",
    "import time\n",
    "import scipy.signal\n",
    "import itertools\n",
    "from torch.optim import Adam"
   ]
  },
  {
   "cell_type": "code",
   "execution_count": 12,
   "metadata": {},
   "outputs": [],
   "source": [
    "MCTS_HORIZON = 40 # How many steps to rollout each sim\n",
    "NUM_MCTS_ROLLOUTS = 2\n",
    "BATCH_SIZE = 8\n",
    "gamma = 0.98\n",
    "strategy = 'final' # or 'random'. Strateygy for goal subsitution. \n",
    "lr = 3e-4\n",
    "train_partition = 0.8"
   ]
  },
  {
   "cell_type": "code",
   "execution_count": 3,
   "metadata": {},
   "outputs": [
    {
     "name": "stdout",
     "output_type": "stream",
     "text": [
      "seeding\n",
      "Environment set to sparse reward\n"
     ]
    }
   ],
   "source": [
    "\n",
    "env = gym.make('pointMass-v0')\n",
    "env.render(mode='human')\n",
    "obs = env.reset()\n",
    "\n"
   ]
  },
  {
   "cell_type": "code",
   "execution_count": 4,
   "metadata": {},
   "outputs": [],
   "source": [
    "goal_dim = env.observation_space.spaces['desired_goal'].shape[0]\n",
    "obs_dim = env.observation_space.spaces['observation'].shape[0]\n",
    "act_dim = env.action_space.shape[0]\n",
    "act_limit = env.action_space.high"
   ]
  },
  {
   "cell_type": "code",
   "execution_count": 22,
   "metadata": {},
   "outputs": [],
   "source": [
    "# Load in expert demos\n",
    "demo = 'collected_data/10000experiment_2_HER_pointMass-v0.npz'\n",
    "data = np.load(demo) # data has fields obs, acts, achieved_goals, full_positional_states, + more\n",
    "\n",
    "# each data field is n_trajectories, len_trajectories, dimension\n",
    "N_TRAJS = data['obs'].shape[0]\n"
   ]
  },
  {
   "cell_type": "code",
   "execution_count": 23,
   "metadata": {},
   "outputs": [],
   "source": [
    "train_data = {key:value[:int(N_TRAJS*train_partition)] for key, value in data.items()}\n",
    "test_data = {key:value[int(N_TRAJS*train_partition):] for key, value in data.items()}\n"
   ]
  },
  {
   "cell_type": "code",
   "execution_count": 24,
   "metadata": {},
   "outputs": [],
   "source": [
    "def discount_cumsum(x, discount):\n",
    "    \"\"\"\n",
    "    magic from rllab for computing discounted cumulative sums of vectors.\n",
    "    input: \n",
    "        vector x, \n",
    "        [x0, \n",
    "         x1, \n",
    "         x2]\n",
    "    output:\n",
    "        [x0 + discount * x1 + discount^2 * x2,  \n",
    "         x1 + discount * x2,\n",
    "         x2]\n",
    "    \"\"\"\n",
    "    return scipy.signal.lfilter([1], [1, float(-discount)], x[::-1], axis=0)[::-1]\n",
    "\n",
    "def tensor(x):\n",
    "    return torch.as_tensor(x, dtype=torch.float32).cuda()"
   ]
  },
  {
   "cell_type": "code",
   "execution_count": 25,
   "metadata": {},
   "outputs": [],
   "source": [
    "# Convert expert demos into trajectory with rewards via hindsight.\n",
    "# What do we need in a batch to train our neural nets? \n",
    "# obs, per step reward, per step discounted value.\n",
    "\n",
    "def get_target_batch(data):\n",
    "    LEN_TRAJS = data['obs'].shape[1]\n",
    "    \n",
    "    idxs = np.random.choice(len(data['obs']), BATCH_SIZE)  # get BATCH_SIZE Trajectories\n",
    "    # now, for each trajectory we need to calculate discounted sum of rewards. \n",
    "    #start_index = np.random.choice(LEN_TRAJS-MCTS_HORIZON, BATCH_SIZE) # don't want to do steps at the very end, because need to take loss with MCTS horizon rollouts\n",
    "    start_index = np.random.choice(1, BATCH_SIZE)\n",
    "    # Now, because we want to vary data as much as possible, choose random end indices as well, but do this by choosing\n",
    "    # a  trajectory length and then clipping that at the end of the trajectory. This will make it easy to adapt to learning\n",
    "    # from play style data. \n",
    "    if strategy == 'random':\n",
    "        traj_lengths = np.random.choice(LEN_TRAJS, BATCH_SIZE) \n",
    "        end_index = np.clip(traj_lengths, start_index+MCTS_HORIZON, LEN_TRAJS-1) # clip so goal is at min MCTS HORIZON away.\n",
    "        raise NotImplemented # if we want to do this, must also mask steps after the end index so that they don't mess up the value predictions.\n",
    "    elif strategy == 'final':\n",
    "        end_index = [-1 for i in range(BATCH_SIZE)] # final index\n",
    "\n",
    "    # why do we need end_index? To calculate discounted sum of rewards as though that is the end goal. \n",
    "    goals = data['achieved_goals'][idxs, end_index]\n",
    " \n",
    "    # get the obs, an ending index, use that as desired goal. \n",
    "    # calculate rewards w.r.t goal.\n",
    "    full_trajectories = data['achieved_goals'][idxs]\n",
    "    all_obs = full_trajectories.reshape([-1, goal_dim]) # should end up LENxBATCH, obsdim\n",
    "    corresponding_goals = np.tile(np.expand_dims(goals,axis = 1),(1, LEN_TRAJS, 1)).reshape([-1, goal_dim]) \n",
    "    rewards = env.compute_reward(all_obs, corresponding_goals) \n",
    "    hindsight_rewards = rewards.reshape([BATCH_SIZE, LEN_TRAJS, 1]) #reshape so they correspond the the obsdims. \n",
    "\n",
    "    # calculate the value func targets\n",
    "    # Function to calculate discounted value estimates. Borrow from spinning up. \n",
    "    discounted_summed_rewards = np.array([ discount_cumsum(hindsight_rewards[n], gamma) for n in range(hindsight_rewards.shape[0])] ) \n",
    "\n",
    "    # we need the obs, the instantaneous rewards, the values, the actions\n",
    "    target_rewards = tensor(np.array([ hindsight_rewards[n][start_index[n]:start_index[n]+MCTS_HORIZON] for n in range(BATCH_SIZE)] ) )\n",
    "    target_values = tensor(np.array([ discounted_summed_rewards[n][start_index[n]:start_index[n]+MCTS_HORIZON] for n in range(BATCH_SIZE)] ))\n",
    "    target_acts = tensor(np.array([ data['acts'][n][start_index[n]:start_index[n]+MCTS_HORIZON] for n in range(BATCH_SIZE)] ))\n",
    "    target_obs = tensor(np.array([ data['obs'][n][start_index[n]:start_index[n]+MCTS_HORIZON] for n in range(BATCH_SIZE)] ))\n",
    "    \n",
    "    return target_rewards, target_values, target_acts, target_obs, tensor(goals)"
   ]
  },
  {
   "cell_type": "code",
   "execution_count": 26,
   "metadata": {},
   "outputs": [],
   "source": [
    "\n",
    "t_r, t_v, t_a, t_o, t_g = get_target_batch(train_data)\n"
   ]
  },
  {
   "cell_type": "code",
   "execution_count": 27,
   "metadata": {},
   "outputs": [
    {
     "data": {
      "text/plain": [
       "torch.Size([8, 39, 4])"
      ]
     },
     "execution_count": 27,
     "metadata": {},
     "output_type": "execute_result"
    }
   ],
   "source": [
    "t_o[:, 1:, :].shape"
   ]
  },
  {
   "cell_type": "code",
   "execution_count": 28,
   "metadata": {},
   "outputs": [],
   "source": [
    "\n",
    "hidden_sizes = [128,128]\n",
    "representation_dim = 4\n",
    "# Create representation, value, and prediction net. Prediction net predicts immediate reward\n",
    "# discounted sum of rewards, and action. \n",
    "\n",
    "\n",
    "def mlp(sizes, activation=nn.ReLU, output_activation=nn.Identity):\n",
    "    layers = []\n",
    "    for j in range(len(sizes)-1):\n",
    "        act = activation if j < len(sizes)-2 else output_activation\n",
    "        layers += [nn.Linear(sizes[j], sizes[j+1]), act()]\n",
    "    return nn.Sequential(*layers)\n",
    "\n",
    "class REPRESENTATION_MODULE(nn.Module):\n",
    "\n",
    "    def __init__(self, input_dim, representation_dim, hidden_sizes, activation=nn.ReLU):\n",
    "        super().__init__()\n",
    "        self.model = mlp([input_dim] + list(hidden_sizes)+[representation_dim])\n",
    "        \n",
    "\n",
    "    def forward(self, obs):\n",
    "        obs = tensor(obs)\n",
    "        return self.model(obs)\n",
    "\n",
    "\n",
    "class DYNAMICS_MODULE(nn.Module):\n",
    "\n",
    "    def __init__(self, input_dim, prediction_dim, hidden_sizes, activation=nn.ReLU):\n",
    "        super().__init__()\n",
    "        self.trunk = mlp([input_dim] + list(hidden_sizes), activation=activation, output_activation=activation)\n",
    "        self.prediction_head = nn.Linear(hidden_sizes[-1], prediction_dim)\n",
    "        self.obs_prediction_head = nn.Linear(prediction_dim, obs_dim)\n",
    "        self.reward_head = nn.Linear(hidden_sizes[-1], 1)\n",
    "        \n",
    "\n",
    "    def forward(self, obs):\n",
    "        trunk = self.trunk(obs)\n",
    "        prediction = self.prediction_head(trunk)\n",
    "        obs_prediction = self.obs_prediction_head(prediction) #TODO change returns and outputs\n",
    "        reward = self.reward_head(trunk)\n",
    "        return prediction, reward, obs_prediction\n",
    "\n",
    "\n",
    "class PREDICTION_MODULE(nn.Module):\n",
    "\n",
    "    def __init__(self, input_dim, act_dim, hidden_sizes,  act_limit, activation=nn.ReLU):\n",
    "        super().__init__()\n",
    "        self.trunk = mlp([input_dim] + list(hidden_sizes), activation=activation, output_activation=activation)\n",
    "        self.value_head = nn.Linear(hidden_sizes[-1], 1)\n",
    "        self.action_head = nn.Linear(hidden_sizes[-1], act_dim)\n",
    "        self.act_limit = tensor(act_limit) \n",
    "\n",
    "    def forward(self, representation, goal):\n",
    "        \n",
    "        goal = tensor(goal)\n",
    "        rep_and_goal = torch.cat([representation, goal], dim=-1)\n",
    "        trunk = self.trunk(rep_and_goal)\n",
    "        value = self.value_head(trunk)\n",
    "        action = self.action_head(trunk)\n",
    "        \n",
    "        # See if this is good or not, tanh can introduce gradient instability.\n",
    "        #action = torch.tanh(action)\n",
    "        #action = self.act_limit * action # need to .cuda it here if we use GPU\n",
    "        \n",
    "        return value, action\n",
    "\n"
   ]
  },
  {
   "cell_type": "code",
   "execution_count": 29,
   "metadata": {},
   "outputs": [],
   "source": [
    "# An MCTS Rollout\n",
    "# Let's begin. \n",
    "\n",
    "# Run n times, choose the one with the best final value\n",
    "\n",
    "# handles action selection.\n",
    "def select_action(representation, goal):\n",
    "    \n",
    "    # simplest scheme is just choose the action reccomended by the policy\n",
    "    value, action = pred_model(representation, goal)\n",
    "    \n",
    "    # the next best is to try a few, and rate based on Q value + discriminator bound. \n",
    "    \n",
    "    # alternatively we can try Qt-Opt (directly optimise for the Q_value+discriminator bound)\n",
    "    \n",
    "    # for the moment\n",
    "    return value, action\n",
    "                  \n",
    "# Does an MCTS_rollout without grad\n",
    "def MCTS_rollout(obs):\n",
    "    \n",
    "    goal = obs['desired_goal']\n",
    "    representation = representation_model(obs['observation'])\n",
    "    total_reward = 0\n",
    "\n",
    "    first_action = None\n",
    "\n",
    "    for i in range(0, MCTS_HORIZON):\n",
    "\n",
    "        _, action = select_action(representation, obs['desired_goal'])\n",
    "        if first_action is None:\n",
    "            first_action = action # store the first act so we know which one to choose\n",
    "        representation, r, _ = dynamics_model(torch.cat([representation, action, tensor(goal)]))\n",
    "        total_reward += r\n",
    "\n",
    "    # # terminate after x steps, use value estimate of final step as estimate of reward to go. \n",
    "    reward_to_go, _ = pred_model(representation, goal)\n",
    "    total_reward += reward_to_go\n",
    "        \n",
    "    return first_action, total_reward\n",
    "        \n",
    "from operator import itemgetter\n",
    "\n",
    "# Chooses the action from the best MCTS rollout\n",
    "def choose_path(obs):\n",
    "    expansions = []\n",
    "    # expand out a bunch of paths\n",
    "    for n in range(NUM_MCTS_ROLLOUTS):\n",
    "        action, reward = MCTS_rollout(obs)\n",
    "        expansions.append([action, reward])\n",
    "    expansions = sorted(expansions, key=itemgetter(1))\n",
    "    return expansions[0][0] # the first action of the best MCTS rollout\n",
    "\n",
    "def step(batch): \n",
    "    # TODO everything in test, but obvs wrap it in the step when trainig\n",
    "    # come on Sholto, this is elefucking mentary!\n",
    "        \n",
    "\n",
    "def train(batch):\n",
    "    t_r, t_v, t_a, t_o, t_g = batch\n",
    "    optimizer.zero_grad()\n",
    "\n",
    "    if use_representations:\n",
    "    # what we need to do, is take the first obs, represent it.\n",
    "        state = representation_model(t_o[:, 0])\n",
    "    else:\n",
    "        state = t_o[:, 0]\n",
    "    \n",
    "    action_est = []\n",
    "    value_est = []\n",
    "    r_est = []\n",
    "    obs_est = []\n",
    "    for i in range(0, MCTS_HORIZON):\n",
    "        # now, from this predict an action\n",
    "        values, actions = select_action(state, t_g)\n",
    "        # sub in the true action so that next representation and value/reward etc is correct\n",
    "        if use_representations:\n",
    "            state, r, obs_preds = dynamics_model(torch.cat([state, t_g, t_a[:,i]], dim=-1)) \n",
    "            r_est.append(r), obs_est.append(obs_preds)\n",
    "        else:\n",
    "            if i < MCTS_HORIZON-1:\n",
    "                state = t_o[:,i+1,:]\n",
    "            \n",
    "            \n",
    "        action_est.append(actions), value_est.append(values)\n",
    "\n",
    "    action_est = torch.stack(action_est).transpose(0,1) # put it back to B, L, Dim\n",
    "    value_est = torch.stack(value_est).transpose(0,1)\n",
    "   \n",
    "    def loss(a,b):\n",
    "        return abs((a-b)).mean()\n",
    "    \n",
    "    if use_representations:\n",
    "        reward_loss = loss(t_r,r_est)\n",
    "        obs_est = torch.stack(obs_est).transpose(0,1)\n",
    "        r_est = torch.stack(r_est).transpose(0,1)\n",
    "        obs_recon_loss = loss(t_o[:, 1:, :], obs_est[:,:-1, :])\n",
    "    \n",
    "    else:\n",
    "        reward_loss = 0\n",
    "        obs_recon_loss = 0\n",
    "    \n",
    "    value_loss  = loss(t_v, value_est)\n",
    "    action_loss = loss(t_a, action_est)\n",
    "\n",
    "    \n",
    "    \n",
    "    (reward_loss+value_loss+action_loss).backward() #+ obs_recon_loss\n",
    "    optimizer.step()\n",
    "    return reward_loss, value_loss, action_loss, obs_recon_loss\n",
    "\n",
    "\n",
    "# batch = get_target_batch(data)\n",
    "# t_r, t_v, t_a, t_o, t_g = batch\n",
    "# optimizer.zero_grad()\n",
    "# # what we need to do, is take the first obs, represent it.\n",
    "# values, actions = select_action(t_o[:, 0], t_g)\n",
    "    \n",
    "    "
   ]
  },
  {
   "cell_type": "code",
   "execution_count": 30,
   "metadata": {},
   "outputs": [],
   "source": [
    "representation_model = REPRESENTATION_MODULE(obs_dim, representation_dim, hidden_sizes).cuda()\n",
    "# dynamis model needs the goal term to predict rewards\n",
    "dynamics_model = DYNAMICS_MODULE(representation_dim+goal_dim+act_dim, representation_dim, hidden_sizes).cuda()\n",
    "pred_model = PREDICTION_MODULE(representation_dim+goal_dim, act_dim, hidden_sizes, act_limit).cuda()\n",
    "# now we do some training!\n",
    "params = itertools.chain(representation_model.parameters(), dynamics_model.parameters(), pred_model.parameters())\n",
    "optimizer = Adam(params, lr)"
   ]
  },
  {
   "cell_type": "code",
   "execution_count": 26,
   "metadata": {},
   "outputs": [],
   "source": [
    "step = 0 \n",
    "steps = []\n",
    "r_l, v_l, a_l, o_l= [], [], [] ,[] \n",
    "r_l_test, v_l_test, a_l_test, o_l_test  = [], [] , [], []\n",
    "\n",
    "use_representations = False\n",
    "\n",
    "for i in range(0,1000):\n",
    "    batch = get_target_batch(train_data)\n",
    "    \n",
    "    r,v,a,o = train(batch)\n",
    "    r_l.append(r)\n",
    "    v_l.append(v)\n",
    "    a_l.append(a)\n",
    "    o_l.append(o)\n",
    "    steps.append(i)\n",
    "    \n",
    "    step += 1"
   ]
  },
  {
   "cell_type": "code",
   "execution_count": 29,
   "metadata": {},
   "outputs": [
    {
     "data": {
      "image/png": "[encoded data removed]",
      "text/plain": [
       "<Figure size 432x288 with 1 Axes>"
      ]
     },
     "metadata": {
      "needs_background": "light"
     },
     "output_type": "display_data"
    }
   ],
   "source": [
    "import matplotlib.pyplot as plt\n",
    "plt.plot(steps, v_l)\n",
    "plt.show()\n"
   ]
  },
  {
   "cell_type": "code",
   "execution_count": 255,
   "metadata": {},
   "outputs": [],
   "source": [
    "t_r, t_v, t_a, t_o, t_g = batch"
   ]
  },
  {
   "cell_type": "code",
   "execution_count": 42,
   "metadata": {
    "scrolled": true
   },
   "outputs": [
    {
     "data": {
      "text/plain": [
       "tensor([[[ 0.3220, -1.7175,  0.0000,  0.0000],\n",
       "         [ 0.3549, -1.6898,  0.7871,  0.3709]],\n",
       "\n",
       "        [[-0.1873,  0.2340,  0.0000,  0.0000],\n",
       "         [-0.1767,  0.2012,  0.0219, -0.7872]],\n",
       "\n",
       "        [[ 0.9729, -0.2307,  0.0000,  0.0000],\n",
       "         [ 0.9401, -0.2635, -0.7871, -0.7871]],\n",
       "\n",
       "        [[ 0.2931,  0.7576,  0.0000,  0.0000],\n",
       "         [ 0.2602,  0.7247, -0.7871, -0.7871]],\n",
       "\n",
       "        [[ 0.7983,  1.9602,  0.0000,  0.0000],\n",
       "         [ 0.8312,  1.9461,  0.7872, -0.0114]],\n",
       "\n",
       "        [[-0.7893, -0.2982,  0.0000,  0.0000],\n",
       "         [-0.7564, -0.2750,  0.7871,  0.2048]],\n",
       "\n",
       "        [[ 1.6901,  1.8823,  0.0000,  0.0000],\n",
       "         [ 1.6573,  1.8495, -0.7871, -0.7871]],\n",
       "\n",
       "        [[ 0.3828, -0.3177,  0.0000,  0.0000],\n",
       "         [ 0.3499, -0.3279, -0.7872, -0.0219]]], device='cuda:0')"
      ]
     },
     "execution_count": 42,
     "metadata": {},
     "output_type": "execute_result"
    }
   ],
   "source": [
    "t_o"
   ]
  },
  {
   "cell_type": "code",
   "execution_count": 31,
   "metadata": {},
   "outputs": [
    {
     "name": "stdout",
     "output_type": "stream",
     "text": [
      "CPU times: user 15.4 s, sys: 8.13 ms, total: 15.4 s\n",
      "Wall time: 5.19 s\n"
     ]
    }
   ],
   "source": [
    "%%time\n",
    "obs = env.reset()\n",
    "observations = []\n",
    "actions = []\n",
    "rewards = []\n",
    "\n",
    "for i in range(0,100):\n",
    "    with torch.no_grad():\n",
    "        a = choose_path(obs).cpu().numpy()\n",
    "        obs, r, d, _ = env.step(a)\n",
    "        env.render(mode='human')\n",
    "#observations.append(obs)\n",
    "    #actions.append(a)\n",
    "    #rewards.append(r)\n"
   ]
  },
  {
   "cell_type": "code",
   "execution_count": null,
   "metadata": {},
   "outputs": [],
   "source": []
  },
  {
   "cell_type": "code",
   "execution_count": null,
   "metadata": {},
   "outputs": [],
   "source": [
    "# What does the training function look like?\n",
    "# Ideally we want to avoid recurrent style computation graphs with many loops.\n",
    "\n",
    "# ideally I guess we want to predict up to the MCTS horizon. \n",
    "\n",
    "# so a for loop where each step computes the reward, value, and action. \n",
    "# Start of with a bunch of random indices, compute r,v,a - take loss, sub in true a, compute f, next r,v,a loss.\n",
    "# Make sure only to take random indices from Eplen- MCTS horizon. "
   ]
  },
  {
   "cell_type": "code",
   "execution_count": null,
   "metadata": {},
   "outputs": [],
   "source": []
  },
  {
   "cell_type": "code",
   "execution_count": null,
   "metadata": {},
   "outputs": [],
   "source": []
  },
  {
   "cell_type": "code",
   "execution_count": null,
   "metadata": {},
   "outputs": [],
   "source": [
    "\n",
    "\n"
   ]
  },
  {
   "cell_type": "code",
   "execution_count": null,
   "metadata": {},
   "outputs": [],
   "source": [
    "# "
   ]
  }
 ],
 "metadata": {
  "kernelspec": {
   "display_name": "Python 3",
   "language": "python",
   "name": "python3"
  },
  "language_info": {
   "codemirror_mode": {
    "name": "ipython",
    "version": 3
   },
   "file_extension": ".py",
   "mimetype": "text/x-python",
   "name": "python",
   "nbconvert_exporter": "python",
   "pygments_lexer": "ipython3",
   "version": "3.7.3"
  }
 },
 "nbformat": 4,
 "nbformat_minor": 2
}
