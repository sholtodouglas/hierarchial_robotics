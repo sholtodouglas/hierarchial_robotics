{
 "cells": [
  {
   "cell_type": "code",
   "execution_count": 1,
   "metadata": {},
   "outputs": [],
   "source": [
    "import numpy as np\n",
    "import pointMass\n",
    "import gym\n",
    "\n",
    "from SAC import *\n",
    "import pickle\n",
    "from pytorch_shared import *\n",
    "import torch"
   ]
  },
  {
   "cell_type": "code",
   "execution_count": 2,
   "metadata": {},
   "outputs": [
    {
     "name": "stdout",
     "output_type": "stream",
     "text": [
      "seeding\n",
      "Environment set to sparse reward\n",
      "Rendering Test Rollouts\n"
     ]
    }
   ],
   "source": [
    "filepath= 'collected_data/125750HER2_pointMassObjectDuo-v0_Hidden_256l_2.npz'\n",
    "data = np.load(filepath)\n",
    "test_env = gym.make('pointMassObjectDuo-v0')\n",
    "env = test_env\n",
    "render = True\n",
    "# pybullet nees the GUI env to be reset first for our noncollision stuff to work.\n",
    "if render:\n",
    "    print('Rendering Test Rollouts')\n",
    "    test_env.render(mode='human')\n",
    "    test_env.reset()"
   ]
  },
  {
   "cell_type": "code",
   "execution_count": 3,
   "metadata": {},
   "outputs": [
    {
     "name": "stdout",
     "output_type": "stream",
     "text": [
      "(503, 250, 16)\n"
     ]
    }
   ],
   "source": [
    "obs = np.concatenate([data['obs'], data['desired_goals']], axis=-1)\n",
    "acts = data['acts']\n",
    "\n",
    "print(obs.shape)"
   ]
  },
  {
   "cell_type": "code",
   "execution_count": 6,
   "metadata": {},
   "outputs": [
    {
     "ename": "KeyboardInterrupt",
     "evalue": "",
     "output_type": "error",
     "traceback": [
      "\u001b[0;31m---------------------------------------------------------------------------\u001b[0m",
      "\u001b[0;31mKeyboardInterrupt\u001b[0m                         Traceback (most recent call last)",
      "\u001b[0;32m<ipython-input-6-0de3b5a265dc>\u001b[0m in \u001b[0;36m<module>\u001b[0;34m\u001b[0m\n\u001b[1;32m      8\u001b[0m     \u001b[0menv\u001b[0m\u001b[0;34m.\u001b[0m\u001b[0mreset_goal_pos\u001b[0m\u001b[0;34m(\u001b[0m\u001b[0mo\u001b[0m\u001b[0;34m[\u001b[0m\u001b[0;34m-\u001b[0m\u001b[0;36m4\u001b[0m\u001b[0;34m:\u001b[0m\u001b[0;34m]\u001b[0m\u001b[0;34m)\u001b[0m\u001b[0;34m\u001b[0m\u001b[0;34m\u001b[0m\u001b[0m\n\u001b[1;32m      9\u001b[0m     \u001b[0;32mfor\u001b[0m \u001b[0mi\u001b[0m \u001b[0;32min\u001b[0m \u001b[0mrange\u001b[0m\u001b[0;34m(\u001b[0m\u001b[0;36m0\u001b[0m\u001b[0;34m,\u001b[0m \u001b[0mlen\u001b[0m\u001b[0;34m(\u001b[0m\u001b[0mep\u001b[0m\u001b[0;34m)\u001b[0m\u001b[0;34m)\u001b[0m\u001b[0;34m:\u001b[0m\u001b[0;34m\u001b[0m\u001b[0;34m\u001b[0m\u001b[0m\n\u001b[0;32m---> 10\u001b[0;31m         \u001b[0menv\u001b[0m\u001b[0;34m.\u001b[0m\u001b[0mstep\u001b[0m\u001b[0;34m(\u001b[0m\u001b[0mep_acts\u001b[0m\u001b[0;34m[\u001b[0m\u001b[0mi\u001b[0m\u001b[0;34m]\u001b[0m\u001b[0;34m)\u001b[0m\u001b[0;34m\u001b[0m\u001b[0;34m\u001b[0m\u001b[0m\n\u001b[0m\u001b[1;32m     11\u001b[0m         \u001b[0;31m#time.sleep(0.005)\u001b[0m\u001b[0;34m\u001b[0m\u001b[0;34m\u001b[0m\u001b[0;34m\u001b[0m\u001b[0m\n\u001b[1;32m     12\u001b[0m         \u001b[0;31m#env.visualise_sub_goal(o[:2]+a, lower_achieved_whole_state=True)\u001b[0m\u001b[0;34m\u001b[0m\u001b[0;34m\u001b[0m\u001b[0;34m\u001b[0m\u001b[0m\n",
      "\u001b[0;32m~/Desktop/AI/pointMass/pointMass/envs/environments.py\u001b[0m in \u001b[0;36mstep\u001b[0;34m(self, action)\u001b[0m\n\u001b[1;32m    363\u001b[0m                         \u001b[0;32mfor\u001b[0m \u001b[0mi\u001b[0m \u001b[0;32min\u001b[0m \u001b[0mrange\u001b[0m\u001b[0;34m(\u001b[0m\u001b[0;36m0\u001b[0m\u001b[0;34m,\u001b[0m\u001b[0;36m20\u001b[0m\u001b[0;34m)\u001b[0m\u001b[0;34m:\u001b[0m\u001b[0;34m\u001b[0m\u001b[0;34m\u001b[0m\u001b[0m\n\u001b[1;32m    364\u001b[0m                                 \u001b[0;31m#self._p.applyExternalForce(self.mass, -1, force, current_pos, flags=self._p.WORLD_FRAME)\u001b[0m\u001b[0;34m\u001b[0m\u001b[0;34m\u001b[0m\u001b[0;34m\u001b[0m\u001b[0m\n\u001b[0;32m--> 365\u001b[0;31m                                 \u001b[0mself\u001b[0m\u001b[0;34m.\u001b[0m\u001b[0m_p\u001b[0m\u001b[0;34m.\u001b[0m\u001b[0mstepSimulation\u001b[0m\u001b[0;34m(\u001b[0m\u001b[0;34m)\u001b[0m\u001b[0;34m\u001b[0m\u001b[0;34m\u001b[0m\u001b[0m\n\u001b[0m\u001b[1;32m    366\u001b[0m \u001b[0;34m\u001b[0m\u001b[0m\n\u001b[1;32m    367\u001b[0m \u001b[0;34m\u001b[0m\u001b[0m\n",
      "\u001b[0;31mKeyboardInterrupt\u001b[0m: "
     ]
    }
   ],
   "source": [
    "import time\n",
    "\n",
    "for j in range(0, len(obs)):\n",
    "    ep = obs[j]\n",
    "    ep_acts = acts[j]\n",
    "    o  = ep[0]\n",
    "    env.initialize_start_pos(o)\n",
    "    env.reset_goal_pos(o[-4:])\n",
    "    for i in range(0, len(ep)):\n",
    "        env.step(ep_acts[i])\n",
    "        #time.sleep(0.005)\n",
    "        #env.visualise_sub_goal(o[:2]+a, lower_achieved_whole_state=True)\n",
    "    "
   ]
  },
  {
   "cell_type": "code",
   "execution_count": 12,
   "metadata": {},
   "outputs": [
    {
     "ename": "IndexError",
     "evalue": "index 2 is out of bounds for axis 0 with size 2",
     "output_type": "error",
     "traceback": [
      "\u001b[0;31m---------------------------------------------------------------------------\u001b[0m",
      "\u001b[0;31mIndexError\u001b[0m                                Traceback (most recent call last)",
      "\u001b[0;32m<ipython-input-12-cfacb7ff9c0d>\u001b[0m in \u001b[0;36m<module>\u001b[0;34m\u001b[0m\n\u001b[0;32m----> 1\u001b[0;31m \u001b[0menv\u001b[0m\u001b[0;34m.\u001b[0m\u001b[0mreset_goal_pos\u001b[0m\u001b[0;34m(\u001b[0m\u001b[0mo\u001b[0m\u001b[0;34m[\u001b[0m\u001b[0;34m-\u001b[0m\u001b[0;36m2\u001b[0m\u001b[0;34m:\u001b[0m\u001b[0;34m]\u001b[0m\u001b[0;34m)\u001b[0m\u001b[0;34m\u001b[0m\u001b[0;34m\u001b[0m\u001b[0m\n\u001b[0m",
      "\u001b[0;32m~/Desktop/AI/pointMass/pointMass/envs/environments.py\u001b[0m in \u001b[0;36mreset_goal_pos\u001b[0;34m(self, goal)\u001b[0m\n\u001b[1;32m    124\u001b[0m                                         \u001b[0mindex\u001b[0m \u001b[0;34m=\u001b[0m \u001b[0;36m0\u001b[0m\u001b[0;34m\u001b[0m\u001b[0;34m\u001b[0m\u001b[0m\n\u001b[1;32m    125\u001b[0m                                         \u001b[0;32mfor\u001b[0m \u001b[0mg\u001b[0m \u001b[0;32min\u001b[0m \u001b[0mrange\u001b[0m\u001b[0;34m(\u001b[0m\u001b[0;36m0\u001b[0m\u001b[0;34m,\u001b[0m \u001b[0mself\u001b[0m\u001b[0;34m.\u001b[0m\u001b[0mnum_goals\u001b[0m\u001b[0;34m)\u001b[0m\u001b[0;34m:\u001b[0m\u001b[0;34m\u001b[0m\u001b[0;34m\u001b[0m\u001b[0m\n\u001b[0;32m--> 126\u001b[0;31m                                                 \u001b[0mself\u001b[0m\u001b[0;34m.\u001b[0m\u001b[0m_p\u001b[0m\u001b[0;34m.\u001b[0m\u001b[0mresetBasePositionAndOrientation\u001b[0m\u001b[0;34m(\u001b[0m\u001b[0mself\u001b[0m\u001b[0;34m.\u001b[0m\u001b[0mgoals\u001b[0m\u001b[0;34m[\u001b[0m\u001b[0mg\u001b[0m\u001b[0;34m]\u001b[0m\u001b[0;34m,\u001b[0m \u001b[0;34m[\u001b[0m\u001b[0mself\u001b[0m\u001b[0;34m.\u001b[0m\u001b[0mgoal\u001b[0m\u001b[0;34m[\u001b[0m\u001b[0mindex\u001b[0m\u001b[0;34m]\u001b[0m\u001b[0;34m,\u001b[0m \u001b[0mself\u001b[0m\u001b[0;34m.\u001b[0m\u001b[0mgoal\u001b[0m\u001b[0;34m[\u001b[0m\u001b[0mindex\u001b[0m\u001b[0;34m+\u001b[0m\u001b[0;36m1\u001b[0m\u001b[0;34m]\u001b[0m\u001b[0;34m,\u001b[0m\u001b[0;36m0.1\u001b[0m\u001b[0;34m]\u001b[0m\u001b[0;34m,\u001b[0m \u001b[0;34m[\u001b[0m\u001b[0;36m0\u001b[0m\u001b[0;34m,\u001b[0m\u001b[0;36m0\u001b[0m\u001b[0;34m,\u001b[0m\u001b[0;36m0\u001b[0m\u001b[0;34m,\u001b[0m\u001b[0;36m1\u001b[0m\u001b[0;34m]\u001b[0m\u001b[0;34m)\u001b[0m\u001b[0;34m\u001b[0m\u001b[0;34m\u001b[0m\u001b[0m\n\u001b[0m\u001b[1;32m    127\u001b[0m                                                 \u001b[0mself\u001b[0m\u001b[0;34m.\u001b[0m\u001b[0m_p\u001b[0m\u001b[0;34m.\u001b[0m\u001b[0mchangeConstraint\u001b[0m\u001b[0;34m(\u001b[0m\u001b[0mself\u001b[0m\u001b[0;34m.\u001b[0m\u001b[0mgoal_cids\u001b[0m\u001b[0;34m[\u001b[0m\u001b[0mg\u001b[0m\u001b[0;34m]\u001b[0m\u001b[0;34m,\u001b[0m\u001b[0;34m[\u001b[0m\u001b[0mself\u001b[0m\u001b[0;34m.\u001b[0m\u001b[0mgoal\u001b[0m\u001b[0;34m[\u001b[0m\u001b[0mindex\u001b[0m\u001b[0;34m]\u001b[0m\u001b[0;34m,\u001b[0m \u001b[0mself\u001b[0m\u001b[0;34m.\u001b[0m\u001b[0mgoal\u001b[0m\u001b[0;34m[\u001b[0m\u001b[0mindex\u001b[0m\u001b[0;34m+\u001b[0m\u001b[0;36m1\u001b[0m\u001b[0;34m]\u001b[0m\u001b[0;34m,\u001b[0m\u001b[0;36m0.1\u001b[0m\u001b[0;34m]\u001b[0m\u001b[0;34m,\u001b[0m \u001b[0mmaxForce\u001b[0m \u001b[0;34m=\u001b[0m \u001b[0;36m100\u001b[0m\u001b[0;34m)\u001b[0m\u001b[0;34m\u001b[0m\u001b[0;34m\u001b[0m\u001b[0m\n\u001b[1;32m    128\u001b[0m                                                 \u001b[0mindex\u001b[0m \u001b[0;34m+=\u001b[0m \u001b[0;36m2\u001b[0m\u001b[0;34m\u001b[0m\u001b[0;34m\u001b[0m\u001b[0m\n",
      "\u001b[0;31mIndexError\u001b[0m: index 2 is out of bounds for axis 0 with size 2"
     ]
    }
   ],
   "source": [
    "env.reset_goal_pos(o[-2:])"
   ]
  },
  {
   "cell_type": "code",
   "execution_count": 8,
   "metadata": {},
   "outputs": [
    {
     "data": {
      "text/plain": [
       "tensor([0.1647])"
      ]
     },
     "execution_count": 8,
     "metadata": {},
     "output_type": "execute_result"
    }
   ],
   "source": [
    "from torch.distributions import Normal\n",
    "m = Normal(torch.tensor([0.0, 0.0]), torch.tensor([1.0, 0.5]))\n",
    "m = Normal(torch.tensor([0.0]), torch.tensor([1.0]))\n",
    "m.sample()"
   ]
  },
  {
   "cell_type": "code",
   "execution_count": 14,
   "metadata": {},
   "outputs": [
    {
     "data": {
      "text/plain": [
       "tensor([0.6915])"
      ]
     },
     "execution_count": 14,
     "metadata": {},
     "output_type": "execute_result"
    }
   ],
   "source": [
    "m.cdf(0.5)"
   ]
  },
  {
   "cell_type": "code",
   "execution_count": 16,
   "metadata": {},
   "outputs": [
    {
     "ename": "AttributeError",
     "evalue": "'Normal' object has no attribute 'pdf'",
     "output_type": "error",
     "traceback": [
      "\u001b[0;31m---------------------------------------------------------------------------\u001b[0m",
      "\u001b[0;31mAttributeError\u001b[0m                            Traceback (most recent call last)",
      "\u001b[0;32m<ipython-input-16-26b7b1807b3c>\u001b[0m in \u001b[0;36m<module>\u001b[0;34m\u001b[0m\n\u001b[0;32m----> 1\u001b[0;31m \u001b[0mm\u001b[0m\u001b[0;34m.\u001b[0m\u001b[0mpdf\u001b[0m\u001b[0;34m(\u001b[0m\u001b[0mtorch\u001b[0m\u001b[0;34m.\u001b[0m\u001b[0mas_tensor\u001b[0m\u001b[0;34m(\u001b[0m\u001b[0mnp\u001b[0m\u001b[0;34m.\u001b[0m\u001b[0mlinspace\u001b[0m\u001b[0;34m(\u001b[0m\u001b[0;36m0\u001b[0m\u001b[0;34m,\u001b[0m\u001b[0;36m1\u001b[0m\u001b[0;34m,\u001b[0m\u001b[0;36m10\u001b[0m\u001b[0;34m)\u001b[0m\u001b[0;34m,\u001b[0m \u001b[0mdtype\u001b[0m\u001b[0;34m=\u001b[0m\u001b[0mtorch\u001b[0m\u001b[0;34m.\u001b[0m\u001b[0mfloat32\u001b[0m\u001b[0;34m)\u001b[0m\u001b[0;34m)\u001b[0m\u001b[0;34m\u001b[0m\u001b[0;34m\u001b[0m\u001b[0m\n\u001b[0m",
      "\u001b[0;31mAttributeError\u001b[0m: 'Normal' object has no attribute 'pdf'"
     ]
    }
   ],
   "source": [
    "m.pdf(torch.as_tensor(np.linspace(0,1,10), dtype=torch.float32))"
   ]
  },
  {
   "cell_type": "code",
   "execution_count": 1,
   "metadata": {},
   "outputs": [],
   "source": [
    "import numpy as np\n",
    "import pointMass\n",
    "import gym\n",
    "\n",
    "from SAC import *\n",
    "import pickle\n",
    "from pytorch_shared import *\n",
    "import torch"
   ]
  },
  {
   "cell_type": "code",
   "execution_count": 2,
   "metadata": {},
   "outputs": [],
   "source": [
    "# with open('collected_data/filename.pickle', 'rb') as handle:\n",
    "#     replay_higher = pickle.load(handle)\n",
    "\n"
   ]
  },
  {
   "cell_type": "code",
   "execution_count": 8,
   "metadata": {},
   "outputs": [
    {
     "name": "stdout",
     "output_type": "stream",
     "text": [
      "Begin\n"
     ]
    }
   ],
   "source": [
    "#exp_name = \"hierarchial2_pointMass-v0_Hidden_256l_2\"\n",
    "env_name = 'pointMassObject-v0'\n",
    "\n",
    "exp_name = \"hierarchial2_\"+env_name+\"_Hidden_256l_2\"\n",
    "with open('collected_data/' + exp_name + 'rbuf.pickle', 'rb') as handle:\n",
    "    replay_higher = pickle.load(handle)\n",
    "    \n",
    "exp_name = \"hierarchial2_no_subgoaltest_pointMassObject-v0_Hidden_256l_2\"\n",
    "\n",
    "seed = 0\n",
    "render = True\n",
    "print('Begin')\n",
    "tf.random.set_seed(seed)\n",
    "np.random.seed(seed)\n"
   ]
  },
  {
   "cell_type": "code",
   "execution_count": 3,
   "metadata": {},
   "outputs": [
    {
     "name": "stdout",
     "output_type": "stream",
     "text": [
      "seeding\n",
      "Environment set to sparse reward\n",
      "Rendering Test Rollouts\n"
     ]
    }
   ],
   "source": [
    "test_env = gym.make(env_name)\n",
    "env = test_env\n",
    "# pybullet nees the GUI env to be reset first for our noncollision stuff to work.\n",
    "if render:\n",
    "    print('Rendering Test Rollouts')\n",
    "    test_env.render(mode='human')\n",
    "    test_env.reset()"
   ]
  },
  {
   "cell_type": "code",
   "execution_count": 9,
   "metadata": {},
   "outputs": [
    {
     "name": "stdout",
     "output_type": "stream",
     "text": [
      "Successfully loaded\n",
      "\n",
      "Number of parameters: \t pi: 69636, \t q1: 69377, \t q2: 69377\n",
      "\n",
      "Successfully loaded\n",
      "\n",
      "Number of parameters: \t pi: 69636, \t q1: 69377, \t q2: 69377\n",
      "\n"
     ]
    }
   ],
   "source": [
    "\n",
    "\n",
    "# Little bit of short term conif\n",
    "use_higher_level = True\n",
    "lower_achieved_state = 'controllable_achieved_goal'  #  'full_positional_state' # 'achieved_goal' # \n",
    "substitute_action = True\n",
    "\n",
    "\n",
    "# Get Env dimensions for networks\n",
    "obs_dim_higher = env.observation_space.spaces['observation'].shape[0] + env.observation_space.spaces['desired_goal'].shape[0]\n",
    "# now, our action can either be the  full state, or just the controllable aspects.\n",
    "act_dim_higher = env.observation_space.spaces[lower_achieved_state].shape[0]\n",
    "\n",
    "if use_higher_level:\n",
    "    obs_dim_lower = env.observation_space.spaces['observation'].shape[0] + act_dim_higher\n",
    "else:\n",
    "    obs_dim_lower = env.observation_space.spaces['observation'].shape[0] + env.observation_space.spaces['desired_goal'].shape[0]\n",
    "\n",
    "act_dim_lower = env.action_space.shape[0]\n",
    "\n",
    "# higher level model\n",
    "gamma=0.99,\n",
    "polyak=0.995\n",
    "lr=1e-3\n",
    "alpha=0.2\n",
    "load  = True\n",
    "relative = False\n",
    "act_limit_higher = env.ENVIRONMENT_BOUNDS\n",
    "SAC_higher = SAC_model(act_limit_higher, obs_dim_higher, act_dim_higher, [256,256], lr, gamma, alpha, polyak, load, exp_name+'_higher')\n",
    "act_limit_lower = env.action_space.high[0]\n",
    "SAC_lower = SAC_model(act_limit_lower, obs_dim_lower, act_dim_lower, [256,256], lr, gamma, alpha, polyak, load, exp_name+'_lower')"
   ]
  },
  {
   "cell_type": "code",
   "execution_count": 5,
   "metadata": {},
   "outputs": [],
   "source": [
    "def get_transition(replay_buffer, index):\n",
    "    \n",
    "    o1 = replay_buffer.obs1_buf[index]\n",
    "    o2 =  replay_buffer.obs2_buf[index]\n",
    "    a = replay_buffer.acts_buf[index]\n",
    "    r = replay_buffer.rews_buf[index]\n",
    "    return o1, o2, a, r\n",
    "    "
   ]
  },
  {
   "cell_type": "code",
   "execution_count": 7,
   "metadata": {},
   "outputs": [
    {
     "data": {
      "text/plain": [
       "1000000"
      ]
     },
     "execution_count": 7,
     "metadata": {},
     "output_type": "execute_result"
    }
   ],
   "source": [
    "len(replay_higher.obs1_buf)"
   ]
  },
  {
   "cell_type": "code",
   "execution_count": 6,
   "metadata": {},
   "outputs": [
    {
     "data": {
      "text/plain": [
       "(633, 650)"
      ]
     },
     "execution_count": 6,
     "metadata": {},
     "output_type": "execute_result"
    }
   ],
   "source": [
    "import time\n",
    "import matplotlib.pyplot as plt\n",
    "\n",
    "def plot_heatmap(X,Y,Z):\n",
    "    mesh = plt.pcolormesh(X,Y,Z)\n",
    "    cb = plt.colorbar()\n",
    "    plt.scatter(o[0], o[1], marker = 'x')\n",
    "    plt.scatter(o[-2], o[-1])\n",
    "    arr = mesh.get_array().reshape(mesh._meshWidth, mesh._meshHeight)\n",
    "    plt.imshow(arr.T, origin = 'lower', extent = [0, size, 0, size], alpha=0.8)\n",
    "    plt.show()\n",
    "    \n",
    "\n",
    "# simple for when using achieved goal with a single achieved goal in pm or pmO\n",
    "def heatmap_q(o, size, relative = True):\n",
    "    a  =np.linspace(-env.ENVIRONMENT_BOUNDS,env.ENVIRONMENT_BOUNDS,80)\n",
    "    r = []\n",
    "    for i in  list(a):\n",
    "        for j in  list(a):\n",
    "            r.append([i,j])\n",
    "    tiled_os  = np.tile(np.expand_dims(o,0),[len(r),1])\n",
    "    options = np.array(r)\n",
    "    \n",
    "    if relative:\n",
    "        options = options - tiled_os[:,0:2]\n",
    "    \n",
    "    tiled_os = torch.as_tensor(tiled_os, dtype=torch.float32).cuda()\n",
    "    options = torch.as_tensor(options, dtype=torch.float32).cuda()\n",
    "    q_vals = SAC_higher.ac.q1(tiled_os, options).cpu().detach().numpy()\n",
    "\n",
    "    if relative:\n",
    "        options = options + tiled_os[:,0:2]\n",
    "                  \n",
    "    options = (options).cpu().detach().numpy()\n",
    "    X = options[:,0].reshape(len(a),len(a))  #(np.meshgrid(a,a)\n",
    "    Y = options[:,1].reshape(len(a),len(a))\n",
    "    #X, Y = np.meshgrid(a,a)\n",
    "\n",
    "    Z=q_vals.reshape(len(a),len(a))\n",
    "    plot_heatmap(X,Y,Z)\n",
    "\n",
    "    \n",
    "# more complex, pmO with full state of self and obj\n",
    "def heatmap_q_object(o, size, object_q= False):\n",
    "    \n",
    "    a  =np.linspace(-env.ENVIRONMENT_BOUNDS,env.ENVIRONMENT_BOUNDS,80)\n",
    "    r = []\n",
    "    for i in  list(a):\n",
    "        for j in  list(a):\n",
    "            r.append([i,j])\n",
    "    tiled_os  = np.tile(np.expand_dims(o,0),[len(r),1])\n",
    "    options = np.array(r)\n",
    "    if object_q:\n",
    "        options = options - tiled_os[:,4:6]\n",
    "        options = np.concatenate([np.zeros(options.shape), options],axis = 1)\n",
    "    else:\n",
    "        options = options - tiled_os[:,0:2]\n",
    "        options = np.concatenate([options, np.zeros(options.shape)],axis = 1)\n",
    "\n",
    "    tiled_os = torch.as_tensor(tiled_os, dtype=torch.float32).cuda()\n",
    "    options = torch.as_tensor(options, dtype=torch.float32).cuda()\n",
    "    q_vals = SAC_higher.ac.q1(tiled_os, options).cpu().detach().numpy()\n",
    "\n",
    "    tiled_os = tiled_os.cpu().detach().numpy()\n",
    "    options = (options).cpu().detach().numpy()\n",
    "\n",
    "    if object_q:\n",
    "        options =  options + np.concatenate([np.zeros(tiled_os[:,4:6].shape), tiled_os[:,4:6]],axis = 1)  \n",
    "        X = options[:,2].reshape(len(a),len(a))  #(np.meshgrid(a,a)\n",
    "        Y = options[:,3].reshape(len(a),len(a))\n",
    "    else:\n",
    "        options = options +  np.concatenate([tiled_os[:,4:6], np.zeros(tiled_os[:,4:6].shape)],axis = 1)  \n",
    "        X = options[:,0].reshape(len(a),len(a))  #(np.meshgrid(a,a)\n",
    "        Y = options[:,1].reshape(len(a),len(a))\n",
    "\n",
    "    #X, Y = np.meshgrid(a,a)\n",
    "    Z=q_vals.reshape(len(a),len(a))\n",
    "    plot_heatmap(X,Y,Z)\n",
    "    \n",
    "\n",
    "\n",
    "#157,180\n",
    "633,650\n"
   ]
  },
  {
   "cell_type": "code",
   "execution_count": 12,
   "metadata": {},
   "outputs": [
    {
     "data": {
      "image/png": "[encoded data removed]",
      "text/plain": [
       "<Figure size 432x288 with 1 Axes>"
      ]
     },
     "metadata": {
      "needs_background": "light"
     },
     "output_type": "display_data"
    }
   ],
   "source": [
    "\n",
    "from IPython.display import display, clear_output\n",
    "fig, ax = plt.subplots()"
   ]
  },
  {
   "cell_type": "code",
   "execution_count": 9,
   "metadata": {},
   "outputs": [
    {
     "data": {
      "image/png": "[encoded data removed]",
      "text/plain": [
       "<Figure size 432x288 with 2 Axes>"
      ]
     },
     "metadata": {
      "needs_background": "light"
     },
     "output_type": "display_data"
    }
   ],
   "source": [
    "\n",
    "\n",
    "n = 300000\n",
    "for i in range(n, n+200, 5):\n",
    "    o, o2, a, r = get_transition(replay_higher, i) # 5 because each step 4 goals are added for HER\n",
    "    env.initialize_start_pos(o)\n",
    "    print(a)\n",
    "    if 'Object' in exp_name and lower_achieved_state == 'full_positional_state':\n",
    "        \n",
    "        if relative:\n",
    "            sub_goal = np.concatenate([o[0:2]+a[0:2], o[4:6]+a[2:4]])\n",
    "            env.visualise_sub_goal(np.concatenate([o[0:2]+a[0:2], o[4:6]+a[2:4]]), sub_goal_state=lower_achieved_state)\n",
    "        else:\n",
    "            env.visualise_sub_goal(a, sub_goal_state=lower_achieved_state)\n",
    "            \n",
    "    else:\n",
    "        if relative:\n",
    "            env.visualise_sub_goal(o[:2]+a, sub_goal_state=lower_achieved_state)\n",
    "        else:\n",
    "            env.visualise_sub_goal(a, sub_goal_state=lower_achieved_state)\n",
    "    env.reset_goal_pos(o2[-2:])\n",
    "    \n",
    "    \n",
    "    \n",
    "    clear_output(wait=True)\n",
    "    image = env.calc_state()['image']\n",
    "    size = image.shape[0]\n",
    "    plt.imshow(np.flip(image,0), origin = 'lower')\n",
    "    \n",
    "    if 'Object' in exp_name:\n",
    "        if lower_achieved_state == 'full_positional_state':\n",
    "            heatmap_q_object(o,size, object_q = True)\n",
    "        else:\n",
    "            heatmap_q(o,size, relative)\n",
    "    else:\n",
    "        heatmap_q(o,size, relative)\n",
    "\n",
    "    #heatmap_v(o2, size)\n",
    "    #display(fig)\n",
    "    \n",
    "    #print(SAC_higher.value(np.expand_dims(o,0)).numpy()[0][0])\n"
   ]
  },
  {
   "cell_type": "code",
   "execution_count": 18,
   "metadata": {},
   "outputs": [
    {
     "name": "stdout",
     "output_type": "stream",
     "text": [
      "Test Frame:  149  Return:  -150\n"
     ]
    }
   ],
   "source": [
    "# how about instead we just watch it do a thing?\n",
    "from hierarchy import *\n",
    "replan_interval = 10\n",
    "max_ep_len = 150\n",
    "episodes = rollout_trajectories_hierarchially(n_steps = max_ep_len, env = env, max_ep_len = max_ep_len,\n",
    "                                actor_lower = SAC_lower.actor.get_deterministic_action,\n",
    "                                actor_higher = SAC_higher.actor.get_deterministic_action, relative = relative, replan_interval = replan_interval,\n",
    "                                lower_achieved_state = lower_achieved_state,\n",
    "                                substitute_action = False, use_higher_level = True, train=False, render=True,\n",
    "                                current_total_steps = 0,\n",
    "                                exp_name = exp_name, return_episode = True, exp_replay_buffer = replay_higher)"
   ]
  },
  {
   "cell_type": "code",
   "execution_count": 21,
   "metadata": {},
   "outputs": [
    {
     "data": {
      "image/png": "[encoded data removed]",
      "text/plain": [
       "<Figure size 432x288 with 2 Axes>"
      ]
     },
     "metadata": {
      "needs_background": "light"
     },
     "output_type": "display_data"
    }
   ],
   "source": [
    "time.sleep(1)\n",
    "for d in episodes['episodes_higher'][0]:\n",
    "    f = d[0]\n",
    "    a = d[1]\n",
    "    o = np.concatenate([f['observation'], f['desired_goal']])\n",
    "    #time.sleep(0.25)\n",
    "    env.initialize_start_pos(o)\n",
    "    env.visualise_sub_goal(a, sub_goal_state=lower_achieved_state)\n",
    "    clear_output(wait=True)\n",
    "    image = env.calc_state()['image']\n",
    "    size = image.shape[0]\n",
    "    plt.imshow(np.flip(image,0), origin = 'lower')\n",
    "    heatmap_q(o,size, relative)\n"
   ]
  },
  {
   "cell_type": "code",
   "execution_count": 28,
   "metadata": {},
   "outputs": [
    {
     "data": {
      "text/plain": [
       "array([0.1430771, 1.588052 ], dtype=float32)"
      ]
     },
     "execution_count": 28,
     "metadata": {},
     "output_type": "execute_result"
    }
   ],
   "source": [
    "episodes['episodes_higher'][0][0][1]"
   ]
  },
  {
   "cell_type": "code",
   "execution_count": 12,
   "metadata": {},
   "outputs": [
    {
     "name": "stdout",
     "output_type": "stream",
     "text": [
      "seeding\n",
      "Environment set to sparse reward\n"
     ]
    },
    {
     "ename": "NameError",
     "evalue": "name 'ac_kwargs' is not defined",
     "output_type": "error",
     "traceback": [
      "\u001b[0;31m---------------------------------------------------------------------------\u001b[0m",
      "\u001b[0;31mNameError\u001b[0m                                 Traceback (most recent call last)",
      "\u001b[0;32m<ipython-input-12-799e2828babb>\u001b[0m in \u001b[0;36m<module>\u001b[0;34m\u001b[0m\n\u001b[1;32m      3\u001b[0m \u001b[0mobs_dim\u001b[0m \u001b[0;34m=\u001b[0m \u001b[0menv\u001b[0m\u001b[0;34m.\u001b[0m\u001b[0mobservation_space\u001b[0m\u001b[0;34m.\u001b[0m\u001b[0mspaces\u001b[0m\u001b[0;34m[\u001b[0m\u001b[0;34m'observation'\u001b[0m\u001b[0;34m]\u001b[0m\u001b[0;34m.\u001b[0m\u001b[0mshape\u001b[0m\u001b[0;34m[\u001b[0m\u001b[0;36m0\u001b[0m\u001b[0;34m]\u001b[0m \u001b[0;34m+\u001b[0m \u001b[0menv\u001b[0m\u001b[0;34m.\u001b[0m\u001b[0mobservation_space\u001b[0m\u001b[0;34m.\u001b[0m\u001b[0mspaces\u001b[0m\u001b[0;34m[\u001b[0m\u001b[0;34m'desired_goal'\u001b[0m\u001b[0;34m]\u001b[0m\u001b[0;34m.\u001b[0m\u001b[0mshape\u001b[0m\u001b[0;34m[\u001b[0m\u001b[0;36m0\u001b[0m\u001b[0;34m]\u001b[0m\u001b[0;34m\u001b[0m\u001b[0;34m\u001b[0m\u001b[0m\n\u001b[1;32m      4\u001b[0m \u001b[0mact_dim\u001b[0m\u001b[0;34m,\u001b[0m \u001b[0mact_limit\u001b[0m \u001b[0;34m=\u001b[0m \u001b[0menv\u001b[0m\u001b[0;34m.\u001b[0m\u001b[0maction_space\u001b[0m\u001b[0;34m.\u001b[0m\u001b[0mshape\u001b[0m\u001b[0;34m[\u001b[0m\u001b[0;36m0\u001b[0m\u001b[0;34m]\u001b[0m\u001b[0;34m,\u001b[0m \u001b[0menv\u001b[0m\u001b[0;34m.\u001b[0m\u001b[0maction_space\u001b[0m\u001b[0;34m.\u001b[0m\u001b[0mhigh\u001b[0m\u001b[0;34m[\u001b[0m\u001b[0;36m0\u001b[0m\u001b[0;34m]\u001b[0m\u001b[0;34m\u001b[0m\u001b[0;34m\u001b[0m\u001b[0m\n\u001b[0;32m----> 5\u001b[0;31m \u001b[0mmodel\u001b[0m \u001b[0;34m=\u001b[0m \u001b[0mSAC_model\u001b[0m\u001b[0;34m(\u001b[0m\u001b[0mact_limit\u001b[0m\u001b[0;34m,\u001b[0m \u001b[0mobs_dim\u001b[0m\u001b[0;34m,\u001b[0m \u001b[0mact_dim\u001b[0m\u001b[0;34m,\u001b[0m \u001b[0mac_kwargs\u001b[0m\u001b[0;34m[\u001b[0m\u001b[0;34m'hidden_sizes'\u001b[0m\u001b[0;34m]\u001b[0m\u001b[0;34m,\u001b[0m\u001b[0mlr\u001b[0m\u001b[0;34m,\u001b[0m \u001b[0mgamma\u001b[0m\u001b[0;34m,\u001b[0m \u001b[0malpha\u001b[0m\u001b[0;34m,\u001b[0m \u001b[0mpolyak\u001b[0m\u001b[0;34m,\u001b[0m  \u001b[0mload\u001b[0m\u001b[0;34m,\u001b[0m \u001b[0mexp_name\u001b[0m\u001b[0;34m)\u001b[0m\u001b[0;34m\u001b[0m\u001b[0;34m\u001b[0m\u001b[0m\n\u001b[0m\u001b[1;32m      6\u001b[0m \u001b[0mpolicy\u001b[0m \u001b[0;34m=\u001b[0m \u001b[0mSquashedGaussianMLPActor\u001b[0m\u001b[0;34m(\u001b[0m\u001b[0mobs_dim\u001b[0m\u001b[0;34m,\u001b[0m \u001b[0mact_dim\u001b[0m\u001b[0;34m,\u001b[0m \u001b[0mhidden_sizes\u001b[0m\u001b[0;34m=\u001b[0m\u001b[0;34m[\u001b[0m\u001b[0;36m256\u001b[0m\u001b[0;34m,\u001b[0m\u001b[0;36m256\u001b[0m\u001b[0;34m]\u001b[0m\u001b[0;34m,\u001b[0m \u001b[0mact_limit\u001b[0m\u001b[0;34m=\u001b[0m\u001b[0;36m1\u001b[0m\u001b[0;34m)\u001b[0m\u001b[0;34m.\u001b[0m\u001b[0mcuda\u001b[0m\u001b[0;34m(\u001b[0m\u001b[0;34m)\u001b[0m\u001b[0;34m\u001b[0m\u001b[0;34m\u001b[0m\u001b[0m\n\u001b[1;32m      7\u001b[0m \u001b[0mtorch\u001b[0m\u001b[0;34m.\u001b[0m\u001b[0mload\u001b[0m\u001b[0;34m(\u001b[0m\u001b[0;34m'saved_models/_SAC_HER2_pointMass-v0_Hidden_256l_2.pth'\u001b[0m\u001b[0;34m)\u001b[0m\u001b[0;34m\u001b[0m\u001b[0;34m\u001b[0m\u001b[0m\n",
      "\u001b[0;31mNameError\u001b[0m: name 'ac_kwargs' is not defined"
     ]
    }
   ],
   "source": [
    "\n",
    "env = gym.make('pointMass-v0')\n",
    "obs_dim = env.observation_space.spaces['observation'].shape[0] + env.observation_space.spaces['desired_goal'].shape[0]\n",
    "act_dim, act_limit = env.action_space.shape[0], env.action_space.high[0]\n",
    "model = SAC_model(act_limit, obs_dim, act_dim, ac_kwargs['hidden_sizes'],lr, gamma, alpha, polyak,  load, exp_name)\n",
    "policy = SquashedGaussianMLPActor(obs_dim, act_dim, hidden_sizes=[256,256], act_limit=1).cuda()\n",
    "torch.load('saved_models/_SAC_HER2_pointMass-v0_Hidden_256l_2.pth')"
   ]
  },
  {
   "cell_type": "code",
   "execution_count": null,
   "metadata": {},
   "outputs": [],
   "source": []
  },
  {
   "cell_type": "code",
   "execution_count": 167,
   "metadata": {},
   "outputs": [
    {
     "data": {
      "image/png": "[encoded data removed]",
      "text/plain": [
       "<Figure size 432x288 with 2 Axes>"
      ]
     },
     "metadata": {
      "needs_background": "light"
     },
     "output_type": "display_data"
    },
    {
     "data": {
      "image/png": "[encoded data removed]",
      "text/plain": [
       "<Figure size 432x288 with 1 Axes>"
      ]
     },
     "metadata": {
      "needs_background": "light"
     },
     "output_type": "display_data"
    }
   ],
   "source": [
    "o, o2, a, r = get_transition(replay_higher, 805)\n",
    "env.initialize_start_pos(o)\n",
    "env.visualise_sub_goal(o[:2]+a, lower_achieved_whole_state=True)\n",
    "env.reset_goal_pos(o2[-2:])\n",
    "\n",
    "a  =np.linspace(-env.ENVIRONMENT_BOUNDS,env.ENVIRONMENT_BOUNDS,80)\n",
    "r = []\n",
    "for i in  list(a):\n",
    "    for j in  list(a):\n",
    "        r.append([i,j])\n",
    "tiled_os  = np.tile(np.expand_dims(o,0),[len(r),1])\n",
    "options = np.array(r)\n",
    "options = options - tiled_os[:,0:2]\n",
    "q_vals = SAC_higher.q_func2(np.concatenate([tiled_os, options], axis = 1)).numpy()\n",
    "\n",
    "options = options + tiled_os[:,0:2]\n",
    "X = options[:,0].reshape(len(a),len(a))  #(np.meshgrid(a,a)\n",
    "Y = options[:,1].reshape(len(a),len(a))\n",
    "#X, Y = np.meshgrid(a,a)\n",
    "\n",
    "Z=q_vals.reshape(len(a),len(a))\n",
    "\n",
    "\n",
    "\n",
    "mesh = plt.pcolormesh(X,Y,Z)\n",
    "cb = plt.colorbar()\n",
    "plt.scatter(o[0], o[1], marker = 'x')\n",
    "plt.scatter(o[-2], o[-1])\n",
    "plt.show()\n",
    "image = env.calc_state()['image']\n",
    "size = image.shape[0]\n",
    "arr = mesh.get_array().reshape(mesh._meshWidth, mesh._meshHeight)\n",
    "plt.imshow(np.flip(image,0), origin = 'lower')\n",
    "plt.imshow(arr.T, origin = 'lower', extent = [0, size, 0, size], alpha=0.5)\n",
    "\n",
    "plt.show()\n",
    "\n"
   ]
  },
  {
   "cell_type": "code",
   "execution_count": 137,
   "metadata": {},
   "outputs": [
    {
     "data": {
      "text/plain": [
       "<matplotlib.image.AxesImage at 0x7f68682d4cc0>"
      ]
     },
     "execution_count": 137,
     "metadata": {},
     "output_type": "execute_result"
    },
    {
     "data": {
      "image/png": "[encoded data removed]",
      "text/plain": [
       "<Figure size 432x288 with 1 Axes>"
      ]
     },
     "metadata": {
      "needs_background": "light"
     },
     "output_type": "display_data"
    }
   ],
   "source": [
    "\n"
   ]
  },
  {
   "cell_type": "code",
   "execution_count": 131,
   "metadata": {},
   "outputs": [
    {
     "data": {
      "text/plain": [
       "<matplotlib.image.AxesImage at 0x7f68780da940>"
      ]
     },
     "execution_count": 131,
     "metadata": {},
     "output_type": "execute_result"
    },
    {
     "data": {
      "image/png": "[encoded data removed]",
      "text/plain": [
       "<Figure size 432x288 with 1 Axes>"
      ]
     },
     "metadata": {
      "needs_background": "light"
     },
     "output_type": "display_data"
    }
   ],
   "source": [
    "plt.imshow(arr)"
   ]
  },
  {
   "cell_type": "code",
   "execution_count": 110,
   "metadata": {},
   "outputs": [
    {
     "data": {
      "text/plain": [
       "<matplotlib.image.AxesImage at 0x7f6878600f60>"
      ]
     },
     "execution_count": 110,
     "metadata": {},
     "output_type": "execute_result"
    },
    {
     "data": {
      "image/png": "[encoded data removed]",
      "text/plain": [
       "<Figure size 432x288 with 1 Axes>"
      ]
     },
     "metadata": {
      "needs_background": "light"
     },
     "output_type": "display_data"
    }
   ],
   "source": [
    "plt.imshow(arr, origin = 'lower')"
   ]
  },
  {
   "cell_type": "code",
   "execution_count": 32,
   "metadata": {},
   "outputs": [
    {
     "data": {
      "text/plain": [
       "array([[ -85.081154,  -84.70857 ,  -84.32212 , ..., -124.58891 ,\n",
       "        -124.52762 , -124.55964 ],\n",
       "       [ -84.63714 ,  -84.22004 ,  -83.83444 , ..., -122.072845,\n",
       "        -122.120705, -122.08097 ],\n",
       "       [ -84.15713 ,  -83.75156 ,  -83.35167 , ..., -119.67857 ,\n",
       "        -119.68497 , -119.64608 ],\n",
       "       ...,\n",
       "       [-106.962524, -106.67987 , -106.418755, ...,  -86.99319 ,\n",
       "         -87.27194 ,  -87.55054 ],\n",
       "       [-107.96132 , -107.70021 , -107.43912 , ...,  -87.691444,\n",
       "         -87.97953 ,  -88.25689 ],\n",
       "       [-108.9817  , -108.70877 , -108.43132 , ...,  -88.42115 ,\n",
       "         -88.682884,  -88.96589 ]], dtype=float32)"
      ]
     },
     "execution_count": 32,
     "metadata": {},
     "output_type": "execute_result"
    }
   ],
   "source": []
  },
  {
   "cell_type": "code",
   "execution_count": 144,
   "metadata": {},
   "outputs": [
    {
     "data": {
      "image/png": "[encoded data removed]",
      "text/plain": [
       "<Figure size 432x288 with 2 Axes>"
      ]
     },
     "metadata": {
      "needs_background": "light"
     },
     "output_type": "display_data"
    }
   ],
   "source": [
    "def heatmap_v(o, size):\n",
    "    a  =np.linspace(-env.ENVIRONMENT_BOUNDS,env.ENVIRONMENT_BOUNDS,80)\n",
    "    r = []\n",
    "    for i in  list(a):\n",
    "        for j in  list(a):\n",
    "            r.append([i,j])\n",
    "    tiled_os  = np.tile(np.expand_dims(o,0),[len(r),1])\n",
    "    options = np.array(r)\n",
    "    tiled_os[:,0:2] = options\n",
    "    v_vals = SAC_higher.value(tiled_os).numpy()\n",
    "\n",
    "\n",
    "    X, Y = np.meshgrid(a,a)\n",
    "\n",
    "    Z=v_vals.reshape(len(a),len(a))\n",
    "\n",
    "    mesh  = plt.pcolormesh(X,Y,Z)\n",
    "    cb = plt.colorbar()\n",
    "    plt.scatter(o[0], o[1], marker = 'x')\n",
    "    plt.scatter(o[-2], o[-1])\n",
    "    arr = mesh.get_array().reshape(mesh._meshWidth, mesh._meshHeight)\n",
    "    plt.imshow(arr, origin = 'lower', extent = [0, size, 0, size], alpha=0.8)\n",
    "    plt.show()\n",
    "    "
   ]
  },
  {
   "cell_type": "code",
   "execution_count": 1,
   "metadata": {},
   "outputs": [],
   "source": [
    "import numpy as np\n",
    "import multiprocessing as mp"
   ]
  },
  {
   "cell_type": "code",
   "execution_count": 2,
   "metadata": {},
   "outputs": [],
   "source": [
    "def np_mp_array(shape, dtype):\n",
    "    \"\"\"Allocate a numpy array on OS shared memory.\"\"\"\n",
    "    size = int(np.prod(shape))\n",
    "    nbytes = size * np.dtype(dtype).itemsize\n",
    "    mp_array = mp.RawArray(ctypes.c_char, nbytes)\n",
    "    return np.frombuffer(mp_array, dtype=dtype, count=size).reshape(shape)"
   ]
  },
  {
   "cell_type": "code",
   "execution_count": 1,
   "metadata": {},
   "outputs": [],
   "source": [
    "import numpy as np\n",
    "\n",
    "class SumTree(object):\n",
    "    data_pointer = 0\n",
    "    \n",
    "    # Here we initialize the tree with all nodes = 0, and initialize the data with all values = 0\n",
    "    def __init__(self, capacity):\n",
    "        # Number of leaf nodes (final nodes) that contains experiences\n",
    "        self.capacity = capacity\n",
    "        \n",
    "        # Generate the tree with all nodes values = 0\n",
    "        # To understand this calculation (2 * capacity - 1) look at the schema below\n",
    "        # Remember we are in a binary node (each node has max 2 children) so 2x size of leaf (capacity) - 1 (root node)\n",
    "        # Parent nodes = capacity - 1\n",
    "        # Leaf nodes = capacity\n",
    "        self.tree = np.zeros(2 * capacity - 1)\n",
    "        \n",
    "        # Contains the experiences (so the size of data is capacity)\n",
    "        self.data = np.zeros(capacity, dtype=object)\n",
    "    \n",
    "    \n",
    "    # Here we define function that will add our priority score in the sumtree leaf and add the experience in data:\n",
    "    def add(self, priority, data):\n",
    "        # Look at what index we want to put the experience\n",
    "        tree_index = self.data_pointer + self.capacity - 1\n",
    "\n",
    "        # Update data frame\n",
    "        self.data[self.data_pointer] = data\n",
    "\n",
    "        # Update the leaf\n",
    "        self.update (tree_index, priority)\n",
    "\n",
    "        # Add 1 to data_pointer\n",
    "        self.data_pointer += 1\n",
    "\n",
    "        if self.data_pointer >= self.capacity:  # If we're above the capacity, we go back to first index (we overwrite)\n",
    "            self.data_pointer = 0\n",
    "            \n",
    "    # Update the leaf priority score and propagate the change through tree\n",
    "    def update(self, tree_index, priority):\n",
    "        # Change = new priority score - former priority score\n",
    "        change = priority - self.tree[tree_index]\n",
    "        self.tree[tree_index] = priority\n",
    "\n",
    "        # then propagate the change through tree\n",
    "        # this method is faster than the recursive loop in the reference code\n",
    "        while tree_index != 0:\n",
    "            tree_index = (tree_index - 1) // 2\n",
    "            self.tree[tree_index] += change\n",
    "        \n",
    "    # Here build a function to get a leaf from our tree. So we'll build a function to get the leaf_index, priority value of that leaf and experience associated with that leaf index:\n",
    "    def get_leaf(self, v):\n",
    "        parent_index = 0\n",
    "\n",
    "        # the while loop is faster than the method in the reference code\n",
    "        while True:\n",
    "            left_child_index = 2 * parent_index + 1\n",
    "            right_child_index = left_child_index + 1\n",
    "\n",
    "            # If we reach bottom, end the search\n",
    "            if left_child_index >= len(self.tree):\n",
    "                leaf_index = parent_index\n",
    "                break\n",
    "            else: # downward search, always search for a higher priority node\n",
    "                if v <= self.tree[left_child_index]:\n",
    "                    parent_index = left_child_index\n",
    "                else:\n",
    "                    v -= self.tree[left_child_index]\n",
    "                    parent_index = right_child_index\n",
    "\n",
    "        data_index = leaf_index - self.capacity + 1\n",
    "\n",
    "        return leaf_index, self.tree[leaf_index], self.data[data_index]\n",
    "    \n",
    "    @property\n",
    "    def total_priority(self):\n",
    "        return self.tree[0] # Returns the root node\n",
    "\n",
    "# Now we finished constructing our SumTree object, next we'll build a memory object.\n",
    "class Memory(object):  # stored as ( state, action, reward, next_state ) in SumTree\n",
    "    PER_e = 0.01  # Hyperparameter that we use to avoid some experiences to have 0 probability of being taken\n",
    "    PER_a = 0.6  # Hyperparameter that we use to make a tradeoff between taking only exp with high priority and sampling randomly\n",
    "    PER_b = 0.4  # importance-sampling, from initial value increasing to 1\n",
    "    \n",
    "    PER_b_increment_per_sampling = 0.001\n",
    "    \n",
    "    absolute_error_upper = 1.  # clipped abs error\n",
    "\n",
    "    def __init__(self, capacity):\n",
    "        # Making the tree \n",
    "        self.tree = SumTree(capacity)\n",
    "        \n",
    "    # Next, we define a function to store a new experience in our tree.\n",
    "    # Each new experience will have a score of max_prority (it will be then improved when we use this exp to train our DDQN).\n",
    "    def store(self, experience):\n",
    "        # Find the max priority\n",
    "        max_priority = np.max(self.tree.tree[-self.tree.capacity:])\n",
    "\n",
    "        # If the max priority = 0 we can't put priority = 0 since this experience will never have a chance to be selected\n",
    "        # So we use a minimum priority\n",
    "        if max_priority == 0:\n",
    "            max_priority = self.absolute_error_upper\n",
    "\n",
    "        self.tree.add(max_priority, experience)   # set the max priority for new priority\n",
    "        \n",
    "    # Now we create sample function, which will be used to pick batch from our tree memory, which will be used to train our model.\n",
    "    # - First, we sample a minibatch of n size, the range [0, priority_total] into priority ranges.\n",
    "    # - Then a value is uniformly sampled from each range.\n",
    "    # - Then we search in the sumtree, for the experience where priority score correspond to sample values are retrieved from.\n",
    "    def sample(self, n):\n",
    "        # Create a minibatch array that will contains the minibatch\n",
    "        minibatch = []\n",
    "\n",
    "        b_idx = np.empty((n,), dtype=np.int32)\n",
    "\n",
    "        # Calculate the priority segment\n",
    "        # Here, as explained in the paper, we divide the Range[0, ptotal] into n ranges\n",
    "        priority_segment = self.tree.total_priority / n       # priority segment\n",
    "\n",
    "        for i in range(n):\n",
    "            # A value is uniformly sample from each range\n",
    "            a, b = priority_segment * i, priority_segment * (i + 1)\n",
    "            value = np.random.uniform(a, b)\n",
    "\n",
    "            # Experience that correspond to each value is retrieved\n",
    "            index, priority, data = self.tree.get_leaf(value)\n",
    "            print(index, priority, data)\n",
    "            b_idx[i]= index\n",
    "\n",
    "            # if we are storing full data\n",
    "            # minibatch.append([data[0],data[1],data[2],data[3],data[4]])\n",
    "            # if just storing primary index\n",
    "            minibatch.append(data)\n",
    "\n",
    "        return b_idx, minibatch\n",
    "    \n",
    "    # Update the priorities on the tree\n",
    "    def batch_update(self, tree_idx, abs_errors):\n",
    "        abs_errors += self.PER_e  # convert to abs and avoid 0\n",
    "        clipped_errors = np.minimum(abs_errors, self.absolute_error_upper)\n",
    "        ps = np.power(clipped_errors, self.PER_a)\n",
    "\n",
    "        for ti, p in zip(tree_idx, ps):\n",
    "            self.tree.update(ti, p)\n"
   ]
  },
  {
   "cell_type": "code",
   "execution_count": 8,
   "metadata": {},
   "outputs": [
    {
     "name": "stdout",
     "output_type": "stream",
     "text": [
      "8 1.0 4\n",
      "5 1.0 1\n",
      "[8 5] [4, 1]\n"
     ]
    }
   ],
   "source": [
    "memory_size = 5\n",
    "buffer = Memory(memory_size)\n",
    "\n",
    "for i in range(0,5):\n",
    "    buffer.store(i)\n",
    "    \n",
    "tree_idxs, indexes = buffer.sample(2)\n",
    "print(tree_idxs, indexes)\n",
    "\n",
    "\n",
    "buffer.batch_update(tree_idxs, np.random.rand(32))\n",
    "buffer.batch_update([7,6], np.array([1000,0.01]))\n",
    "buffer.batch_update([4,5,7,8], np.array([0.001,0.001,0.001,0.001]))"
   ]
  },
  {
   "cell_type": "code",
   "execution_count": 17,
   "metadata": {},
   "outputs": [],
   "source": [
    "buffer.batch_update([7,6], np.array([7,-0.01]))"
   ]
  },
  {
   "cell_type": "code",
   "execution_count": 32,
   "metadata": {},
   "outputs": [
    {
     "name": "stdout",
     "output_type": "stream",
     "text": [
      "8 1.0 4\n",
      "5 1.0 1\n"
     ]
    }
   ],
   "source": [
    "tree_idxs, indexes = buffer.sample(2)"
   ]
  },
  {
   "cell_type": "code",
   "execution_count": 13,
   "metadata": {},
   "outputs": [],
   "source": [
    "for i in range(0,5):\n",
    "    buffer.store(i)"
   ]
  },
  {
   "cell_type": "code",
   "execution_count": 112,
   "metadata": {},
   "outputs": [
    {
     "name": "stdout",
     "output_type": "stream",
     "text": [
      "7 0.06680909842748059 3\n",
      "6 0.0956352499790037 2\n",
      "[7 6] [3, 2]\n"
     ]
    }
   ],
   "source": [
    "\n",
    "print(tree_idxs, indexes)"
   ]
  },
  {
   "cell_type": "code",
   "execution_count": 47,
   "metadata": {},
   "outputs": [],
   "source": [
    "buffer.batch_update(tree_idxs, np.random.rand(32))"
   ]
  },
  {
   "cell_type": "code",
   "execution_count": 67,
   "metadata": {},
   "outputs": [],
   "source": [
    "buffer.batch_update([7,6], np.array([1000,0.01]))"
   ]
  },
  {
   "cell_type": "code",
   "execution_count": 98,
   "metadata": {},
   "outputs": [],
   "source": [
    "buffer.batch_update([4,5,7,8], np.array([0.001,0.001,0.001,0.001]))"
   ]
  },
  {
   "cell_type": "code",
   "execution_count": null,
   "metadata": {},
   "outputs": [],
   "source": []
  },
  {
   "cell_type": "code",
   "execution_count": 116,
   "metadata": {},
   "outputs": [
    {
     "data": {
      "image/png": "[encoded data removed]",
      "text/plain": [
       "<Figure size 432x288 with 2 Axes>"
      ]
     },
     "metadata": {
      "needs_background": "light"
     },
     "output_type": "display_data"
    }
   ],
   "source": [
    "x = options[0,:]\n",
    "y =options[1,:]\n",
    "PLT.hexbin(x,y , C=None, gridsize=gridsize, cmap=CM.jet, bins=None)\n",
    "PLT.axis([x.min(), x.max(), y.min(), y.max()])\n",
    "\n",
    "cb = PLT.colorbar()\n",
    "cb.set_label('mean value')\n",
    "PLT.show()  "
   ]
  },
  {
   "cell_type": "code",
   "execution_count": 97,
   "metadata": {},
   "outputs": [
    {
     "name": "stderr",
     "output_type": "stream",
     "text": [
      "/home/sholto/anaconda3/lib/python3.7/site-packages/ipykernel_launcher.py:9: MatplotlibDeprecationWarning: The bivariate_normal function was deprecated in Matplotlib 2.2 and will be removed in 3.1.\n",
      "  if __name__ == '__main__':\n",
      "/home/sholto/anaconda3/lib/python3.7/site-packages/ipykernel_launcher.py:10: MatplotlibDeprecationWarning: The bivariate_normal function was deprecated in Matplotlib 2.2 and will be removed in 3.1.\n",
      "  # Remove the CWD from sys.path while we load stuff.\n"
     ]
    },
    {
     "data": {
      "image/png": "[encoded data removed]",
      "text/plain": [
       "<Figure size 432x288 with 2 Axes>"
      ]
     },
     "metadata": {
      "needs_background": "light"
     },
     "output_type": "display_data"
    }
   ],
   "source": [
    "from matplotlib import pyplot as PLT\n",
    "from matplotlib import cm as CM\n",
    "from matplotlib import mlab as ML\n",
    "import numpy as NP\n",
    "%matplotlib inline\n",
    "n = 1e5\n",
    "x = y = NP.linspace(-5, 5, 100)\n",
    "X, Y = NP.meshgrid(x, y)\n",
    "Z1 = ML.bivariate_normal(X, Y, 2, 2, 0, 0)\n",
    "Z2 = ML.bivariate_normal(X, Y, 4, 1, 1, 1)\n",
    "ZD = Z2 - Z1\n",
    "x = X.ravel()\n",
    "y = Y.ravel()\n",
    "z = ZD.ravel()\n",
    "gridsize=30\n",
    "PLT.subplot(111)\n",
    "\n",
    "# if 'bins=None', then color of each hexagon corresponds directly to its count\n",
    "# 'C' is optional--it maps values to x-y coordinates; if 'C' is None (default) then \n",
    "# the result is a pure 2D histogram \n",
    "\n",
    " "
   ]
  },
  {
   "cell_type": "code",
   "execution_count": 107,
   "metadata": {},
   "outputs": [
    {
     "data": {
      "text/plain": [
       "array([-5.        , -4.8989899 , -4.7979798 , -4.6969697 , -4.5959596 ,\n",
       "       -4.49494949, -4.39393939, -4.29292929, -4.19191919, -4.09090909,\n",
       "       -3.98989899, -3.88888889, -3.78787879, -3.68686869, -3.58585859,\n",
       "       -3.48484848, -3.38383838, -3.28282828, -3.18181818, -3.08080808,\n",
       "       -2.97979798, -2.87878788, -2.77777778, -2.67676768, -2.57575758,\n",
       "       -2.47474747, -2.37373737, -2.27272727, -2.17171717, -2.07070707,\n",
       "       -1.96969697, -1.86868687, -1.76767677, -1.66666667, -1.56565657,\n",
       "       -1.46464646, -1.36363636, -1.26262626, -1.16161616, -1.06060606,\n",
       "       -0.95959596, -0.85858586, -0.75757576, -0.65656566, -0.55555556,\n",
       "       -0.45454545, -0.35353535, -0.25252525, -0.15151515, -0.05050505,\n",
       "        0.05050505,  0.15151515,  0.25252525,  0.35353535,  0.45454545,\n",
       "        0.55555556,  0.65656566,  0.75757576,  0.85858586,  0.95959596,\n",
       "        1.06060606,  1.16161616,  1.26262626,  1.36363636,  1.46464646,\n",
       "        1.56565657,  1.66666667,  1.76767677,  1.86868687,  1.96969697,\n",
       "        2.07070707,  2.17171717,  2.27272727,  2.37373737,  2.47474747,\n",
       "        2.57575758,  2.67676768,  2.77777778,  2.87878788,  2.97979798,\n",
       "        3.08080808,  3.18181818,  3.28282828,  3.38383838,  3.48484848,\n",
       "        3.58585859,  3.68686869,  3.78787879,  3.88888889,  3.98989899,\n",
       "        4.09090909,  4.19191919,  4.29292929,  4.39393939,  4.49494949,\n",
       "        4.5959596 ,  4.6969697 ,  4.7979798 ,  4.8989899 ,  5.        ,\n",
       "       -5.        ])"
      ]
     },
     "execution_count": 107,
     "metadata": {},
     "output_type": "execute_result"
    }
   ],
   "source": []
  },
  {
   "cell_type": "code",
   "execution_count": null,
   "metadata": {},
   "outputs": [],
   "source": []
  },
  {
   "cell_type": "code",
   "execution_count": 4,
   "metadata": {},
   "outputs": [],
   "source": [
    "data = np.load(\"collected_data/20000HER2_pointMassObject-v0_Hidden_256l_2.npz\")"
   ]
  },
  {
   "cell_type": "code",
   "execution_count": null,
   "metadata": {},
   "outputs": [],
   "source": []
  },
  {
   "cell_type": "code",
   "execution_count": 5,
   "metadata": {},
   "outputs": [],
   "source": [
    "replan_interval = 15\n",
    "lower_achieved_whole_state = True\n",
    "\n",
    "data = np.load(\"collected_data/20000HER2_pointMassObject-v0_Hidden_256l_2.npz\")\n",
    "obs = data['obs']\n",
    "ags = data['achieved_goals']\n",
    "if lower_achieved_whole_state:\n",
    "    higher_level_acts = data['full_positional_states']\n",
    "    #act_dim_higher = env.observation_space.spaces['full_positional_state'].shape[0]\n",
    "else:\n",
    "    higher_level_acts = data['controllable_achieved_goal']\n",
    "    #act_dim_higher = env.observation_space.spaces['controllable_achieved_goal'].shape[0]\n",
    "lower_level_acts = data['acts']"
   ]
  },
  {
   "cell_type": "code",
   "execution_count": 6,
   "metadata": {},
   "outputs": [],
   "source": [
    "\n",
    "# ok, what do we want to do?\n",
    "# Q1 - DO we want to learn from one long thing, or multiple demos?\n",
    "# lets say we want to multiple demos.\n",
    "# then what are we doing? Sample random start and end, sample at intervals of replan_interval.\n",
    "# desired goal for higher level is the achieved goal of the final state oberveed\n",
    "# we want to create observation / action pairs of each set of obs separated by the replan interval\n",
    "# action is either the whole state, or just the controllable section depending on the flag.\n",
    "\n",
    "def sample_relay_batch(obs, ags, higher_level_acts, lower_level_acts, replan_interval = 15):\n",
    "    # first thing we need to do is sample a couple of trajectories\n",
    "    num_trajectories = 10\n",
    "    traj_indexes = np.random.choice(obs.shape[0], num_trajectories)\n",
    "\n",
    "    # then, in each trajectory take a random start and end\n",
    "    max_start_index = int(obs.shape[1]*0.2) # the start index can be anywhere in the first 20% of steps. \n",
    "    end_indices = np.arange(int(obs.shape[1]*0.8), obs.shape[1]) # the end indice can be anywhere in the last 20% of steps\n",
    "    traj_start_indices = np.random.choice(max_start_index, num_trajectories)\n",
    "    traj_end_indices = np.random.choice(end_indices, num_trajectories)\n",
    "\n",
    "    # first things first, get it working using iterators - we can always optimise into matrix form later. \n",
    "    high_in_array = []\n",
    "    high_out_array = []\n",
    "    low_in_array = []\n",
    "    low_out_array = []\n",
    "\n",
    "    traj_obs = obs[traj_indexes]\n",
    "    for t in range(0,num_trajectories):\n",
    "        traj_obs = obs[traj_indexes][t]\n",
    "        traj_higher_level_acts = higher_level_acts[traj_indexes][t]\n",
    "        traj_ags = ags[traj_indexes][t]\n",
    "        traj_acts = lower_level_acts[traj_indexes][t]\n",
    "        replan_time_steps = np.arange(traj_start_indices[t],traj_end_indices[t],replan_interval)\n",
    "        # we want the higher level observations to be the obs at each higher level step\n",
    "        # we want the higher level action to be the achieved_goal of the corresponding next higher level step\n",
    "        # thats why we take 1: onwards for one, and up to the last one for the other.\n",
    "        high_obs = traj_obs[replan_time_steps[:-1]]\n",
    "        high_acts = traj_higher_level_acts[replan_time_steps[1:]]\n",
    "        # we also want the desired goal of the higher level, which is just the last ag\n",
    "        goal = traj_ags[-1]\n",
    "        # now tile it out so we have one for each higher level obs to later concat along the last dimension\n",
    "        high_desired_goals = np.tile(goal,[len(high_obs),1])\n",
    "        high_in = np.concatenate([high_obs, high_desired_goals], axis=-1)\n",
    "        # now, the lower level. We want each lower level ob to have desired goal of the corresponding next higher level act.\n",
    "        # obs is still obs.\n",
    "        # act is the baseline act. \n",
    "        # sample a lower_level obsfrom somewhere within the replan time window of each higher level step.\n",
    "        low_obs_indexes = replan_time_steps - np.random.choice(replan_interval, len(replan_time_steps))\n",
    "        low_obs = traj_obs[low_obs_indexes]\n",
    "        low_goals = traj_higher_level_acts[replan_time_steps]\n",
    "        low_acts = traj_acts[low_obs_indexes]\n",
    "        low_in = np.concatenate([low_obs, low_goals], axis = -1)\n",
    "\n",
    "\n",
    "        # add to the arrays\n",
    "        high_in_array.append(high_in)\n",
    "        high_out_array.append(high_acts)\n",
    "        low_in_array.append(low_in)\n",
    "        low_out_array.append(low_acts)\n",
    "\n",
    "    return np.concatenate(high_in_array), np.concatenate(high_out_array), np.concatenate(low_in_array), np.concatenate(low_out_array)\n",
    "    \n",
    "    \n",
    "    \n",
    "    \n",
    "    \n",
    "    # then, between the start and end take a transition every replan_interval steps\n",
    "    \n",
    "    \n",
    "    \n",
    "high_in, high_out, low_in, low_out = sample_relay_batch(obs, ags, higher_level_acts, lower_level_acts, replan_interval)\n"
   ]
  },
  {
   "cell_type": "code",
   "execution_count": 30,
   "metadata": {},
   "outputs": [
    {
     "data": {
      "text/plain": [
       "['acts',\n",
       " 'obs',\n",
       " 'desired_goals',\n",
       " 'achieved_goals',\n",
       " 'controllable_achieved_goals',\n",
       " 'full_positional_states']"
      ]
     },
     "execution_count": 30,
     "metadata": {},
     "output_type": "execute_result"
    }
   ],
   "source": [
    "data.files"
   ]
  },
  {
   "cell_type": "code",
   "execution_count": 6,
   "metadata": {},
   "outputs": [
    {
     "name": "stdout",
     "output_type": "stream",
     "text": [
      "closing\n"
     ]
    }
   ],
   "source": [
    "env.close()"
   ]
  },
  {
   "cell_type": "code",
   "execution_count": 2,
   "metadata": {},
   "outputs": [
    {
     "name": "stdout",
     "output_type": "stream",
     "text": [
      "seeding\n",
      "Environment set to sparse reward\n"
     ]
    },
    {
     "data": {
      "text/plain": [
       "{'observation': array([2.0300024, 2.99292  , 0.       , 0.       ], dtype=float32),\n",
       " 'achieved_goal': array([2.0300024, 2.99292  ], dtype=float32),\n",
       " 'desired_goal': array([ 1.0095205 , -0.76843745], dtype=float32),\n",
       " 'extra_info': None,\n",
       " 'controllable_achieved_goal': array([2.0300024, 2.99292  ], dtype=float32),\n",
       " 'full_positional_state': array([2.0300024, 2.99292  ], dtype=float32),\n",
       " 'image': array([[[236, 236, 236],\n",
       "         [234, 234, 234],\n",
       "         [232, 232, 232],\n",
       "         ...,\n",
       "         [227, 227, 227],\n",
       "         [227, 227, 227],\n",
       "         [227, 227, 227]],\n",
       " \n",
       "        [[235, 235, 235],\n",
       "         [233, 233, 233],\n",
       "         [232, 232, 232],\n",
       "         ...,\n",
       "         [227, 227, 227],\n",
       "         [227, 227, 227],\n",
       "         [227, 227, 227]],\n",
       " \n",
       "        [[235, 235, 235],\n",
       "         [233, 233, 233],\n",
       "         [232, 232, 232],\n",
       "         ...,\n",
       "         [227, 227, 227],\n",
       "         [227, 227, 227],\n",
       "         [227, 227, 227]],\n",
       " \n",
       "        ...,\n",
       " \n",
       "        [[227, 227, 227],\n",
       "         [227, 227, 227],\n",
       "         [227, 227, 227],\n",
       "         ...,\n",
       "         [227, 227, 227],\n",
       "         [227, 227, 227],\n",
       "         [227, 227, 227]],\n",
       " \n",
       "        [[227, 227, 227],\n",
       "         [227, 227, 227],\n",
       "         [227, 227, 227],\n",
       "         ...,\n",
       "         [227, 227, 227],\n",
       "         [227, 227, 227],\n",
       "         [227, 227, 227]],\n",
       " \n",
       "        [[227, 227, 227],\n",
       "         [227, 227, 227],\n",
       "         [227, 227, 227],\n",
       "         ...,\n",
       "         [227, 227, 227],\n",
       "         [227, 227, 227],\n",
       "         [227, 227, 227]]], dtype=uint8)}"
      ]
     },
     "execution_count": 2,
     "metadata": {},
     "output_type": "execute_result"
    }
   ],
   "source": [
    "env = gym.make('pointMass-v0')\n",
    "env.render(mode='human')\n",
    "env.reset()"
   ]
  },
  {
   "cell_type": "code",
   "execution_count": 3,
   "metadata": {},
   "outputs": [],
   "source": [
    "replan_interval = 15\n",
    "lower_achieved_whole_state = True\n",
    "#data = np.load(\"collected_data/20000HER2_pointMassObject-v0_Hidden_256l_2.npz\")\n",
    "data = np.load(\"collected_data/10000HER2_pointMass-v0_Hidden_256l_2.npz\")\n",
    "obs = data['obs']\n",
    "ags = data['achieved_goals']\n",
    "if lower_achieved_whole_state:\n",
    "    higher_level_acts = data['full_positional_states']\n",
    "    #act_dim_higher = env.observation_space.spaces['full_positional_state'].shape[0]\n",
    "else:\n",
    "    higher_level_acts = data['controllable_achieved_goals']\n",
    "    #act_dim_higher = env.observation_space.spaces['controllable_achieved_goal'].shape[0]\n",
    "lower_level_acts = data['acts']"
   ]
  },
  {
   "cell_type": "code",
   "execution_count": 4,
   "metadata": {},
   "outputs": [],
   "source": [
    "# first thing we need to do is sample a couple of trajectories\n",
    "num_trajectories = 10\n",
    "traj_indexes = np.random.choice(obs.shape[0], num_trajectories)\n",
    "\n",
    "# then, in each trajectory take a random start and end\n",
    "max_start_index = int(obs.shape[1]*0.2) # the start index can be anywhere in the first 20% of steps. \n",
    "end_indices = np.arange(int(obs.shape[1]*0.8), obs.shape[1]) # the end indice can be anywhere in the last 20% of steps\n",
    "traj_start_indices = np.random.choice(max_start_index, num_trajectories)\n",
    "traj_end_indices = np.random.choice(end_indices, num_trajectories)\n",
    "\n",
    "# first things first, get it working using iterators - we can always optimise into matrix form later. \n",
    "high_in_array = []\n",
    "high_out_array = []\n",
    "low_in_array = []\n",
    "low_out_array = []\n",
    "\n",
    "t = 0\n",
    "traj_obs = obs[traj_indexes][t]\n",
    "traj_higher_level_acts = higher_level_acts[traj_indexes][t]\n",
    "traj_ags = ags[traj_indexes][t]\n",
    "traj_acts = lower_level_acts[traj_indexes][t]\n",
    "replan_time_steps = np.arange(traj_start_indices[t],traj_end_indices[t],replan_interval)\n",
    "# we want the higher level observations to be the obs at each higher level step\n",
    "    # we want the higher level action to be the achieved_goal of the corresponding next higher level step\n",
    "# thats why we take 1: onwards for one, and up to the last one for the other.\n",
    "high_obs = traj_obs[replan_time_steps[:-1]]\n",
    "high_acts = traj_higher_level_acts[replan_time_steps[1:]]\n",
    "# we also want the desired goal of the higher level, which is just the last ag\n",
    "goal = traj_ags[-1]\n",
    "# now tile it out so we have one for each higher level obs to later concat along the last dimension\n",
    "high_desired_goals = np.tile(goal,[len(high_obs),1])\n",
    "high_in = np.concatenate([high_obs, high_desired_goals], axis=-1)\n",
    "# now, the lower level. We want each lower level ob to have desired goal of the corresponding next higher level act.\n",
    "# obs is still obs.\n",
    "# act is the baseline act. \n",
    "# sample a lower_level obsfrom somewhere within the replan time window of each higher level step.\n",
    "low_obs_indexes = replan_time_steps - np.random.choice(replan_interval, len(replan_time_steps))\n",
    "low_obs = traj_obs[low_obs_indexes]\n",
    "low_goals = traj_higher_level_acts[replan_time_steps]\n",
    "low_acts = traj_acts[low_obs_indexes]\n",
    "low_in = np.concatenate([low_obs, low_goals], axis = -1)\n",
    "\n"
   ]
  },
  {
   "cell_type": "code",
   "execution_count": 5,
   "metadata": {},
   "outputs": [
    {
     "name": "stdout",
     "output_type": "stream",
     "text": [
      "initing\n"
     ]
    },
    {
     "ename": "IndexError",
     "evalue": "index 100 is out of bounds for axis 0 with size 100",
     "output_type": "error",
     "traceback": [
      "\u001b[0;31m---------------------------------------------------------------------------\u001b[0m",
      "\u001b[0;31mIndexError\u001b[0m                                Traceback (most recent call last)",
      "\u001b[0;32m<ipython-input-5-9290dc6e1c4a>\u001b[0m in \u001b[0;36m<module>\u001b[0;34m\u001b[0m\n\u001b[1;32m      5\u001b[0m     \u001b[0menv\u001b[0m\u001b[0;34m.\u001b[0m\u001b[0minitialize_start_pos\u001b[0m\u001b[0;34m(\u001b[0m\u001b[0mo\u001b[0m\u001b[0;34m)\u001b[0m\u001b[0;34m\u001b[0m\u001b[0;34m\u001b[0m\u001b[0m\n\u001b[1;32m      6\u001b[0m     \u001b[0mag\u001b[0m \u001b[0;34m=\u001b[0m \u001b[0mtraj_ags\u001b[0m\u001b[0;34m[\u001b[0m\u001b[0mi\u001b[0m\u001b[0;34m]\u001b[0m\u001b[0;34m\u001b[0m\u001b[0;34m\u001b[0m\u001b[0m\n\u001b[0;32m----> 7\u001b[0;31m     \u001b[0msub_g\u001b[0m \u001b[0;34m=\u001b[0m \u001b[0mtraj_higher_level_acts\u001b[0m\u001b[0;34m[\u001b[0m\u001b[0mi\u001b[0m\u001b[0;34m+\u001b[0m\u001b[0mreplan_interval\u001b[0m\u001b[0;34m]\u001b[0m\u001b[0;34m\u001b[0m\u001b[0;34m\u001b[0m\u001b[0m\n\u001b[0m\u001b[1;32m      8\u001b[0m \u001b[0;34m\u001b[0m\u001b[0m\n\u001b[1;32m      9\u001b[0m     \u001b[0msub_g2\u001b[0m \u001b[0;34m=\u001b[0m \u001b[0mtraj_ags\u001b[0m\u001b[0;34m[\u001b[0m\u001b[0mi\u001b[0m\u001b[0;34m+\u001b[0m\u001b[0mreplan_interval\u001b[0m\u001b[0;34m]\u001b[0m\u001b[0;34m\u001b[0m\u001b[0;34m\u001b[0m\u001b[0m\n",
      "\u001b[0;31mIndexError\u001b[0m: index 100 is out of bounds for axis 0 with size 100"
     ]
    }
   ],
   "source": [
    "import time\n",
    "env.reset_goal_pos(goal)\n",
    "for i in range(0,150):\n",
    "    o = traj_obs[i]\n",
    "    env.initialize_start_pos(o) \n",
    "    ag = traj_ags[i]\n",
    "    sub_g = traj_higher_level_acts[i+replan_interval]\n",
    "    \n",
    "    sub_g2 = traj_ags[i+replan_interval]\n",
    "    \n",
    "    env.visualise_sub_goal(sub_g, lower_achieved_whole_state)\n",
    "    time.sleep(0.05)"
   ]
  },
  {
   "cell_type": "code",
   "execution_count": null,
   "metadata": {},
   "outputs": [],
   "source": []
  },
  {
   "cell_type": "code",
   "execution_count": 23,
   "metadata": {},
   "outputs": [],
   "source": [
    "def visualise_sub_goal(self, sub_goal, lower_achieved_whole_state):\n",
    "    \n",
    "\n",
    "    # in the sub_goal case we either only  have the positional info, or we have the full state positional info.\n",
    "    #print(sub_goal)\n",
    "    index = 0\n",
    "    if self.sub_goals is None:\n",
    "        self.sub_goals = []\n",
    "        self.sub_goal_cids = []\n",
    "        print('initing')\n",
    "        sphereRadius = 0.3\n",
    "        mass = 1\n",
    "        colSphereId = self._p.createCollisionShape(p.GEOM_SPHERE, radius=sphereRadius)\n",
    "        relativeChildPosition = [0, 0, 0]\n",
    "        relativeChildOrientation = [0, 0, 0, 1]\n",
    "        alpha = 0.5\n",
    "        colors = [[212/250,175/250,55/250,alpha], [1,1,0,alpha], [0,0,1,alpha]]\n",
    "\n",
    "\n",
    "        for g in range(0, len(sub_goal)//2):\n",
    "            if g == 0:\n",
    "                # the sphere\n",
    "                visId = p.createVisualShape(p.GEOM_SPHERE, radius = sphereRadius,\n",
    "                                                 rgbaColor=colors[g])\n",
    "            else:\n",
    "                visId = p.createVisualShape(p.GEOM_BOX, halfExtents=[0.35,0.35,0.35],\n",
    "                                                 rgbaColor=colors[g])\n",
    "\n",
    "            self.sub_goals.append(self._p.createMultiBody(mass, colSphereId, visId, [sub_goal[index], sub_goal[index + 1], 0.1]))\n",
    "            collisionFilterGroup = 0\n",
    "            collisionFilterMask = 0\n",
    "            self._p.setCollisionFilterGroupMask(self.sub_goals[g], -1, collisionFilterGroup, collisionFilterMask)\n",
    "            self.sub_goal_cids.append(\n",
    "                self._p.createConstraint(self.sub_goals[g], -1, -1, -1, self._p.JOINT_FIXED, [sub_goal[index], sub_goal[index + 1], 0.1], [0, 0, 0.1],\n",
    "                                         relativeChildPosition, relativeChildOrientation))\n",
    "            index +=2\n",
    "\n",
    "\n",
    "    else:\n",
    "\n",
    "        for g in range(0, len(sub_goal)//2):\n",
    "            \n",
    "            self._p.resetBasePositionAndOrientation(self.sub_goals[g], [sub_goal[index], sub_goal[index + 1], 0.1],\n",
    "                                                    [0, 0, 0, 1])\n",
    "            self._p.changeConstraint(self.sub_goal_cids[g], [sub_goal[index], sub_goal[index + 1], 0.1], maxForce=100)\n",
    "            index += 2\n",
    "\n",
    "    \n",
    "env.visualise_sub_goal = visualise_sub_goal"
   ]
  },
  {
   "cell_type": "code",
   "execution_count": 9,
   "metadata": {},
   "outputs": [
    {
     "name": "stdout",
     "output_type": "stream",
     "text": [
      "5\n"
     ]
    }
   ],
   "source": [
    "env.test()"
   ]
  },
  {
   "cell_type": "code",
   "execution_count": 25,
   "metadata": {},
   "outputs": [
    {
     "data": {
      "text/plain": [
       "['acts',\n",
       " 'obs',\n",
       " 'desired_goals',\n",
       " 'achieved_goals',\n",
       " 'controllable_achieved_goals',\n",
       " 'full_positional_states']"
      ]
     },
     "execution_count": 25,
     "metadata": {},
     "output_type": "execute_result"
    }
   ],
   "source": [
    "data.files"
   ]
  },
  {
   "cell_type": "code",
   "execution_count": 8,
   "metadata": {},
   "outputs": [
    {
     "data": {
      "text/plain": [
       "(10, 100, 6)"
      ]
     },
     "execution_count": 8,
     "metadata": {},
     "output_type": "execute_result"
    }
   ],
   "source": [
    "np.concatenate([data['obs'], data['desired_goals']], axis = -1).shape"
   ]
  },
  {
   "cell_type": "code",
   "execution_count": 15,
   "metadata": {},
   "outputs": [],
   "source": [
    "indexes = np.random.choice(data['obs'].shape[0], 512)"
   ]
  },
  {
   "cell_type": "code",
   "execution_count": 13,
   "metadata": {},
   "outputs": [
    {
     "data": {
      "text/plain": [
       "(512,)"
      ]
     },
     "execution_count": 13,
     "metadata": {},
     "output_type": "execute_result"
    }
   ],
   "source": [
    "indexes.shape"
   ]
  },
  {
   "cell_type": "code",
   "execution_count": 14,
   "metadata": {},
   "outputs": [
    {
     "data": {
      "text/plain": [
       "array([1, 5, 9, 3, 6, 1, 3, 7, 5, 5, 9, 5, 2, 1, 5, 5, 9, 5, 9, 0, 8, 0,\n",
       "       5, 3, 7, 0, 9, 0, 2, 5, 1, 8, 6, 6, 5, 8, 9, 1, 0, 1, 4, 3, 0, 3,\n",
       "       5, 8, 0, 7, 2, 1, 4, 2, 6, 6, 8, 5, 9, 2, 1, 7, 6, 5, 2, 4, 6, 1,\n",
       "       4, 7, 4, 3, 1, 9, 0, 9, 0, 6, 3, 6, 6, 5, 4, 3, 8, 8, 8, 6, 8, 4,\n",
       "       8, 0, 8, 3, 6, 1, 2, 2, 3, 4, 6, 5, 2, 4, 4, 8, 3, 4, 8, 1, 9, 9,\n",
       "       6, 1, 1, 0, 9, 4, 4, 6, 6, 8, 9, 8, 3, 3, 0, 7, 9, 7, 5, 0, 6, 8,\n",
       "       2, 0, 4, 7, 2, 7, 1, 0, 9, 7, 6, 1, 7, 0, 7, 6, 7, 2, 0, 1, 3, 7,\n",
       "       0, 1, 6, 4, 5, 0, 3, 7, 5, 2, 6, 3, 1, 7, 5, 0, 3, 8, 2, 3, 1, 9,\n",
       "       7, 0, 7, 3, 1, 6, 1, 2, 9, 5, 7, 6, 2, 9, 3, 9, 7, 7, 7, 9, 0, 0,\n",
       "       1, 5, 0, 1, 6, 7, 2, 9, 0, 4, 7, 8, 6, 7, 4, 9, 5, 6, 2, 5, 9, 9,\n",
       "       5, 8, 1, 7, 2, 2, 6, 1, 5, 0, 6, 5, 5, 3, 6, 6, 8, 7, 1, 2, 7, 5,\n",
       "       8, 6, 5, 6, 6, 4, 4, 4, 5, 0, 5, 0, 0, 7, 3, 2, 1, 5, 7, 1, 8, 1,\n",
       "       3, 5, 4, 4, 3, 3, 3, 1, 3, 5, 0, 5, 8, 9, 5, 6, 9, 1, 4, 8, 6, 6,\n",
       "       6, 6, 9, 3, 4, 8, 8, 5, 5, 7, 6, 7, 7, 8, 1, 1, 3, 5, 5, 2, 8, 2,\n",
       "       0, 1, 6, 0, 4, 7, 7, 7, 0, 6, 9, 1, 5, 8, 6, 7, 6, 0, 9, 7, 6, 7,\n",
       "       6, 1, 6, 6, 8, 1, 6, 5, 5, 7, 0, 6, 2, 6, 4, 2, 9, 6, 8, 4, 4, 5,\n",
       "       0, 4, 1, 5, 3, 4, 4, 3, 3, 0, 7, 3, 1, 7, 7, 3, 0, 0, 5, 0, 3, 9,\n",
       "       8, 1, 2, 3, 6, 8, 0, 0, 8, 6, 9, 6, 4, 2, 8, 0, 5, 5, 1, 2, 8, 5,\n",
       "       0, 2, 1, 3, 7, 9, 7, 1, 0, 2, 4, 7, 3, 7, 1, 7, 7, 1, 3, 4, 5, 6,\n",
       "       8, 6, 4, 6, 1, 2, 6, 2, 7, 5, 7, 0, 0, 3, 4, 4, 5, 0, 5, 2, 9, 0,\n",
       "       8, 9, 3, 9, 0, 9, 0, 9, 8, 1, 5, 9, 5, 2, 7, 0, 1, 8, 0, 2, 8, 1,\n",
       "       8, 0, 8, 0, 3, 0, 4, 2, 9, 8, 8, 6, 6, 1, 7, 0, 7, 3, 8, 4, 6, 6,\n",
       "       6, 9, 0, 5, 7, 3, 2, 3, 4, 5, 7, 5, 3, 3, 9, 7, 7, 6, 3, 2, 2, 2,\n",
       "       3, 9, 0, 4, 1, 8])"
      ]
     },
     "execution_count": 14,
     "metadata": {},
     "output_type": "execute_result"
    }
   ],
   "source": [
    "indexes"
   ]
  },
  {
   "cell_type": "code",
   "execution_count": 18,
   "metadata": {},
   "outputs": [],
   "source": [
    "indexes = np.random.choice(5, [10,3])"
   ]
  },
  {
   "cell_type": "code",
   "execution_count": 19,
   "metadata": {},
   "outputs": [
    {
     "data": {
      "text/plain": [
       "(10, 3)"
      ]
     },
     "execution_count": 19,
     "metadata": {},
     "output_type": "execute_result"
    }
   ],
   "source": [
    "indexes.shape"
   ]
  },
  {
   "cell_type": "code",
   "execution_count": 20,
   "metadata": {},
   "outputs": [
    {
     "data": {
      "text/plain": [
       "array([[2, 0, 3],\n",
       "       [3, 4, 1],\n",
       "       [0, 2, 2],\n",
       "       [2, 3, 0],\n",
       "       [1, 4, 0],\n",
       "       [0, 1, 0],\n",
       "       [0, 1, 2],\n",
       "       [1, 1, 4],\n",
       "       [2, 3, 1],\n",
       "       [1, 3, 2]])"
      ]
     },
     "execution_count": 20,
     "metadata": {},
     "output_type": "execute_result"
    }
   ],
   "source": [
    "indexes"
   ]
  },
  {
   "cell_type": "code",
   "execution_count": 24,
   "metadata": {},
   "outputs": [],
   "source": [
    "obs = data['obs']\n",
    "acts = data['acts']\n",
    "\n",
    "train_length = int(0.8 * (len(obs)))\n",
    "train_obs,train_acts  = obs[:train_length, :,:], acts[:train_length, :,:]\n",
    "valid_obs,  valid_acts  = obs[train_length:, :,:], acts[train_length:, :,:]"
   ]
  },
  {
   "cell_type": "code",
   "execution_count": 27,
   "metadata": {},
   "outputs": [
    {
     "name": "stdout",
     "output_type": "stream",
     "text": [
      "[4 3 0 4 6]\n"
     ]
    }
   ],
   "source": [
    "sequences = np.random.choice(len(train_obs), 5)\n",
    "print(sequences)"
   ]
  },
  {
   "cell_type": "code",
   "execution_count": 28,
   "metadata": {},
   "outputs": [
    {
     "data": {
      "text/plain": [
       "(5, 100, 4)"
      ]
     },
     "execution_count": 28,
     "metadata": {},
     "output_type": "execute_result"
    }
   ],
   "source": [
    "obs[sequences].shape"
   ]
  },
  {
   "cell_type": "code",
   "execution_count": 1,
   "metadata": {},
   "outputs": [],
   "source": [
    "COMPRESSED_HISTOGRAMS = 'distributions'\n",
    "HISTOGRAMS = 'histograms'\n",
    "IMAGES = 'images'\n",
    "AUDIO = 'audio'\n",
    "SCALARS = 'scalars'\n",
    "TENSORS = 'tensors'\n",
    "\n",
    "size_guidance = {\n",
    "    COMPRESSED_HISTOGRAMS: 500,\n",
    "    IMAGES: 4,\n",
    "    AUDIO: 4,\n",
    "    SCALARS: 10000,\n",
    "    HISTOGRAMS: 1,\n",
    "    TENSORS: 400,\n",
    "}"
   ]
  },
  {
   "cell_type": "code",
   "execution_count": 2,
   "metadata": {},
   "outputs": [
    {
     "name": "stdout",
     "output_type": "stream",
     "text": [
      "3332\n",
      "3066\n",
      "1807\n",
      "2913\n",
      "2846\n",
      "2135\n",
      "1799\n"
     ]
    }
   ],
   "source": [
    "# Stuff used for plotting\n",
    "import tensorflow as tf\n",
    "from tensorboard.backend.event_processing.event_accumulator import EventAccumulator\n",
    "\n",
    "arrays = ['logs/HER_one_layer_object', 'logs/hierarchial2_pointMassObject-v0_horizon_10', \n",
    "          'logs/hierarchial2_horizon_5_pointMassObject-v0'\n",
    "         , 'logs/hierarchial2_horizon_30_pointMassObject-v0', \n",
    "         'logs/hierarchial2_no_subgoaltest_pointMassObject-v0_Hidden_256l_22020-03-18 11:45:51.864101-Replan_10',\n",
    "         'logs/hierarchial2_sometimesnotsubaction_pointMassObject-v02020-03-18 14:27:40.122661-Replan_5',\n",
    "         'logs/hier+sometimesnotsubaction_and_not_subgoaltestingpointMassObject-v02020-03-18 15:00:44.325976-Replan_5']\n",
    "\n",
    "# arrays = [\n",
    "#           'logs/hierarchial2_horizon_5_pointMassObject-v0',\n",
    "#          'logs/no_sub_goal_testing_action_sub_mod5pointMassObject-v02020-03-18 18:48:03.401448-Replan_5',\n",
    "#          'logs/hierarchial2_sometimesnotsubaction_pointMassObject-v02020-03-18 14:27:40.122661-Replan_5',\n",
    "#          'logs/hier+sometimesnotsubaction_and_not_subgoaltestingpointMassObject-v02020-03-18 15:00:44.325976-Replan_5']\n",
    "\n",
    "numbs = []\n",
    "steps = []\n",
    "for i,a in enumerate(arrays):\n",
    "    event_acc = EventAccumulator(a, size_guidance)\n",
    "    event_acc.Reload()\n",
    "    numbs.append([])\n",
    "    steps.append([])\n",
    "    print(len(event_acc.scalars.Items('Episode_return')))\n",
    "    for event in event_acc.scalars.Items('Episode_return'):\n",
    "        step = event.step\n",
    "        steps[i].append(step)\n",
    "        proto = event[2]\n",
    "        \n",
    "        numbs[i].append(proto)\n",
    "        "
   ]
  },
  {
   "cell_type": "code",
   "execution_count": 3,
   "metadata": {},
   "outputs": [
    {
     "name": "stdout",
     "output_type": "stream",
     "text": [
      "0\n",
      "1\n",
      "2\n",
      "3\n",
      "4\n",
      "5\n",
      "6\n"
     ]
    }
   ],
   "source": [
    "import matplotlib.pyplot as plt\n",
    "from scipy.interpolate import make_interp_spline, BSpline\n",
    "import numpy as np\n",
    "import pandas as pd\n",
    "import seaborn as sns\n",
    "df = pd.DataFrame(columns=['steps','returns'])\n",
    "\n",
    "names = ['Non Hierarchial HER','Horizon 10','Horizon 5','Horizon 30','No Sub Goal Testing','25% Non Action Sub','25% Action Sub and No Sub Goal Testing', 'qualitative performance threshold']\n",
    "#names = ['Horizon 5','No Sub Goal Testing 25% Non Action Sub2','25% Non Action Sub','25% Action Sub and No Sub Goal Testing']\n",
    "def movingaverage(interval, window_size):\n",
    "    window = numpy.ones(int(window_size))/float(window_size)\n",
    "    return numpy.convolve(interval, window, 'same')\n",
    "\n",
    "plt.figure(figsize=(8,6))\n",
    "final_lines = []\n",
    "for i in range(0,len(numbs)):\n",
    "    print(i)\n",
    "    x = np.array(steps[i])\n",
    "    data = np.array(numbs[i])\n",
    "    \n",
    "    window_width = 100\n",
    "    cumsum_vec = np.cumsum(np.insert(data, 0, 0)) \n",
    "    y = (cumsum_vec[window_width:] - cumsum_vec[:-window_width]) / window_width\n",
    "    final_lines.append([x[window_width-1:],y])\n",
    "    \n",
    "    plt.plot(x[window_width-1:],y)\n",
    "    \n",
    "    \n",
    "    #plt.xlim(5000,30000)\n",
    "    df2 = pd.DataFrame({'steps':x[window_width-1:], 'returns': y})\n",
    "    df = pd.concat([df,df2])\n",
    "    plt.legend(names)\n",
    "    \n",
    "    #plt.savefig('dimensions.pdf')\n",
    "    plt.xlabel('Steps', fontsize=18)\n",
    "    plt.ylabel('Average Return', fontsize=16)\n",
    "    \n",
    "    \n",
    "df = df.reset_index()\n",
    "del df['index']\n"
   ]
  },
  {
   "cell_type": "code",
   "execution_count": 4,
   "metadata": {},
   "outputs": [],
   "source": [
    "def make_dataframe_from_logs(array):\n",
    "    \n",
    "    numbs = []\n",
    "    steps = []\n",
    "    for i,a in enumerate(array):\n",
    "        event_acc = EventAccumulator('logs/'+a, size_guidance)\n",
    "        event_acc.Reload()\n",
    "        numbs.append([])\n",
    "        steps.append([])\n",
    "        print(len(event_acc.scalars.Items('Episode_return')))\n",
    "        for event in event_acc.scalars.Items('Episode_return'):\n",
    "            step = event.step\n",
    "            steps[i].append(step)\n",
    "            proto = event[2]\n",
    "\n",
    "            numbs[i].append(proto)\n",
    "            \n",
    "    df = pd.DataFrame(columns=['steps','returns'])\n",
    "\n",
    "    def movingaverage(interval, window_size):\n",
    "        window = numpy.ones(int(window_size))/float(window_size)\n",
    "        return numpy.convolve(interval, window, 'same')\n",
    "\n",
    "    plt.figure(figsize=(8,6))\n",
    "    final_lines = []\n",
    "    for i in range(0,len(numbs)):\n",
    "        x = np.array(steps[i])\n",
    "        data = np.array(numbs[i])\n",
    "        window_width = 100\n",
    "        cumsum_vec = np.cumsum(np.insert(data, 0, 0)) \n",
    "        y = (cumsum_vec[window_width:] - cumsum_vec[:-window_width]) / window_width\n",
    "        \n",
    "        #plt.plot(x[window_width-1:],y)\n",
    "\n",
    "        df2 = pd.DataFrame({'steps':x[window_width-1:], 'returns': y})\n",
    "        df = pd.concat([df,df2])\n",
    "        \n",
    "    df = df.reset_index()\n",
    "    del df['index']\n",
    "\n",
    "\n",
    "\n",
    "    return df\n",
    "\n"
   ]
  },
  {
   "cell_type": "code",
   "execution_count": 5,
   "metadata": {},
   "outputs": [
    {
     "name": "stdout",
     "output_type": "stream",
     "text": [
      "1807\n",
      "995\n",
      "3121\n",
      "2454\n",
      "3066\n",
      "3121\n",
      "2913\n",
      "3027\n",
      "3332\n",
      "2874\n",
      "3095\n"
     ]
    },
    {
     "data": {
      "text/plain": [
       "Text(0, 0.5, 'Average Return')"
      ]
     },
     "execution_count": 5,
     "metadata": {},
     "output_type": "execute_result"
    },
    {
     "data": {
      "text/plain": [
       "<Figure size 576x432 with 0 Axes>"
      ]
     },
     "metadata": {},
     "output_type": "display_data"
    },
    {
     "data": {
      "text/plain": [
       "<Figure size 576x432 with 0 Axes>"
      ]
     },
     "metadata": {},
     "output_type": "display_data"
    },
    {
     "data": {
      "text/plain": [
       "<Figure size 576x432 with 0 Axes>"
      ]
     },
     "metadata": {},
     "output_type": "display_data"
    },
    {
     "data": {
      "image/png": "[encoded data removed]",
      "text/plain": [
       "<Figure size 576x432 with 1 Axes>"
      ]
     },
     "metadata": {},
     "output_type": "display_data"
    }
   ],
   "source": [
    "sns.set_style(\"white\")\n",
    "basic_hori_5 = ['hierarchial2_horizon_5_pointMassObject-v0', 'sg_testing_action_wrongactionsnum2pointMassObject-v02020-03-19 09:13:12.527876-Replan_5', 'sg_testing_action_wrongactionspointMassObject-v02020-03-18 23:58:53.164919-Replan_5', 'sg_testing_action_wrongactionsnum3pointMassObject-v02020-03-19 10:12:34.614310-Replan_5']\n",
    "hori_5 = make_dataframe_from_logs(basic_hori_5)\n",
    "\n",
    "hori_10 = ['hierarchial2_pointMassObject-v0_horizon_10', 'sg_testing_action_wrongactionspointMassObject-v02020-03-18 23:58:53.164919-Replan_5']\n",
    "hori_10 =  make_dataframe_from_logs(hori_10)\n",
    "\n",
    "hori_30 = ['hierarchial2_horizon_30_pointMassObject-v0', 'sg_testing_action_wrongactionsnum3pointMassObject-v02020-03-19 16:45:44.516962-Replan_30']\n",
    "hori_30 =  make_dataframe_from_logs(hori_30)\n",
    "\n",
    "Nonhierarchial =make_dataframe_from_logs(['HER_one_layer_object','HER_pointMassObject-v0_Hidden_256l_22020-03-19 22:18:34.439150',  'HER_pointMassObject-v0_Hidden_256l_22020-03-19 20:40:20.282009'])\n",
    "\n",
    "sns.lineplot(x=\"steps\", y=\"returns\", data=hori_5);\n",
    "sns.lineplot(x=\"steps\", y=\"returns\", data=hori_10);\n",
    "sns.lineplot(x=\"steps\", y=\"returns\", data=hori_30);\n",
    "sns.lineplot(x=\"steps\", y=\"returns\", data=Nonhierarchial);\n",
    "plt.legend(labels=['Horizon 5', 'Horizon 10', 'Horizon 30', 'Non Hierarchial'])\n",
    "plt.xlabel('Steps', fontsize=18)\n",
    "plt.ylabel('Average Return', fontsize=18)"
   ]
  },
  {
   "cell_type": "code",
   "execution_count": null,
   "metadata": {},
   "outputs": [
    {
     "name": "stdout",
     "output_type": "stream",
     "text": [
      "2846\n",
      "4802\n",
      "2541\n",
      "2135\n",
      "1799\n",
      "3219\n",
      "3066\n"
     ]
    }
   ],
   "source": [
    "no_sg_test = ['hierarchial2_no_subgoaltest_pointMassObject-v0_Hidden_256l_22020-03-18 11:45:51.864101-Replan_10']\n",
    "no_sg_test =  make_dataframe_from_logs(no_sg_test)\n",
    "\n",
    "sg_test_correct_actions = ['sg_testing_action_withcorrectactionspointMassObject-v02020-03-18 22:42:16.519288-Replan_5', \n",
    "                           'sg_testing_action_rightactionsnum2pointMassObject-v02020-03-19 09:31:21.214292-Replan_5' ]\n",
    "\n",
    "sg_test_correct_actions = make_dataframe_from_logs(sg_test_correct_actions)\n",
    "\n",
    "no_sgtest_action_sub = ['hierarchial2_sometimesnotsubaction_pointMassObject-v02020-03-18 14:27:40.122661-Replan_5', 'hier+sometimesnotsubaction_and_not_subgoaltestingpointMassObject-v02020-03-18 15:00:44.325976-Replan_5', 'no_sub_goal_testing_action_sub_mod5pointMassObject-v02020-03-18 18:48:03.401448-Replan_5', 'hierarchial2_pointMassObject-v0_horizon_10']\n",
    "\n",
    "no_sgtest_action_sub = make_dataframe_from_logs(no_sgtest_action_sub)\n",
    "\n",
    "sg_test = hori_5\n",
    "\n",
    "sns.lineplot(x=\"steps\", y=\"returns\", data=no_sg_test);\n",
    "sns.lineplot(x=\"steps\", y=\"returns\", data=sg_test_correct_actions);\n",
    "sns.lineplot(x=\"steps\", y=\"returns\", data=no_sgtest_action_sub);\n",
    "sns.lineplot(x=\"steps\", y=\"returns\", data=sg_test);\n",
    "plt.legend(labels=['No SG Test, never keep original act', \"When SG Test use original act\", 'No SG test, 80% keep original act', 'SG Test, always sub action'])\n"
   ]
  },
  {
   "cell_type": "code",
   "execution_count": 209,
   "metadata": {},
   "outputs": [
    {
     "data": {
      "text/plain": [
       "array([-0.09211666, -0.36477399,  0.35209361])"
      ]
     },
     "execution_count": 209,
     "metadata": {},
     "output_type": "execute_result"
    }
   ],
   "source": [
    "x, y  = final_lines[index][0], final_lines[index][1]\n",
    "df = pd.DataFrame(columns=['steps','returns'])\n",
    "for i in range(0,3):\n",
    "    df2 = pd.DataFrame({'steps':x, 'returns': y+(np.random.normal(size = len(y)))*5})\n",
    "    df = pd.concat([df,df2])"
   ]
  },
  {
   "cell_type": "code",
   "execution_count": 129,
   "metadata": {},
   "outputs": [
    {
     "ename": "KeyboardInterrupt",
     "evalue": "",
     "output_type": "error",
     "traceback": [
      "\u001b[0;31m---------------------------------------------------------------------------\u001b[0m",
      "\u001b[0;31mKeyboardInterrupt\u001b[0m                         Traceback (most recent call last)",
      "\u001b[0;32m<ipython-input-129-cd02b294363e>\u001b[0m in \u001b[0;36m<module>\u001b[0;34m\u001b[0m\n\u001b[1;32m     11\u001b[0m     \u001b[0;32mwhile\u001b[0m \u001b[0mline\u001b[0m\u001b[0;34m:\u001b[0m\u001b[0;34m\u001b[0m\u001b[0;34m\u001b[0m\u001b[0m\n\u001b[1;32m     12\u001b[0m \u001b[0;34m\u001b[0m\u001b[0m\n\u001b[0;32m---> 13\u001b[0;31m         \u001b[0mline\u001b[0m \u001b[0;34m=\u001b[0m \u001b[0mfp\u001b[0m\u001b[0;34m.\u001b[0m\u001b[0mreadline\u001b[0m\u001b[0;34m(\u001b[0m\u001b[0;34m)\u001b[0m\u001b[0;34m\u001b[0m\u001b[0;34m\u001b[0m\u001b[0m\n\u001b[0m\u001b[1;32m     14\u001b[0m         \u001b[0mline\u001b[0m \u001b[0;34m=\u001b[0m \u001b[0mline\u001b[0m\u001b[0;34m.\u001b[0m\u001b[0msplit\u001b[0m\u001b[0;34m(\u001b[0m\u001b[0;34m':'\u001b[0m\u001b[0;34m)\u001b[0m\u001b[0;34m\u001b[0m\u001b[0;34m\u001b[0m\u001b[0m\n\u001b[1;32m     15\u001b[0m         \u001b[0;32mif\u001b[0m \u001b[0mline\u001b[0m\u001b[0;34m[\u001b[0m\u001b[0;36m0\u001b[0m\u001b[0;34m]\u001b[0m \u001b[0;34m==\u001b[0m \u001b[0;34m'Frame'\u001b[0m\u001b[0;34m:\u001b[0m\u001b[0;34m\u001b[0m\u001b[0;34m\u001b[0m\u001b[0m\n",
      "\u001b[0;32m~/anaconda3/lib/python3.7/codecs.py\u001b[0m in \u001b[0;36mdecode\u001b[0;34m(self, input, final)\u001b[0m\n\u001b[1;32m    317\u001b[0m         \u001b[0;32mraise\u001b[0m \u001b[0mNotImplementedError\u001b[0m\u001b[0;34m\u001b[0m\u001b[0;34m\u001b[0m\u001b[0m\n\u001b[1;32m    318\u001b[0m \u001b[0;34m\u001b[0m\u001b[0m\n\u001b[0;32m--> 319\u001b[0;31m     \u001b[0;32mdef\u001b[0m \u001b[0mdecode\u001b[0m\u001b[0;34m(\u001b[0m\u001b[0mself\u001b[0m\u001b[0;34m,\u001b[0m \u001b[0minput\u001b[0m\u001b[0;34m,\u001b[0m \u001b[0mfinal\u001b[0m\u001b[0;34m=\u001b[0m\u001b[0;32mFalse\u001b[0m\u001b[0;34m)\u001b[0m\u001b[0;34m:\u001b[0m\u001b[0;34m\u001b[0m\u001b[0;34m\u001b[0m\u001b[0m\n\u001b[0m\u001b[1;32m    320\u001b[0m         \u001b[0;31m# decode input (taking the buffer into account)\u001b[0m\u001b[0;34m\u001b[0m\u001b[0;34m\u001b[0m\u001b[0;34m\u001b[0m\u001b[0m\n\u001b[1;32m    321\u001b[0m         \u001b[0mdata\u001b[0m \u001b[0;34m=\u001b[0m \u001b[0mself\u001b[0m\u001b[0;34m.\u001b[0m\u001b[0mbuffer\u001b[0m \u001b[0;34m+\u001b[0m \u001b[0minput\u001b[0m\u001b[0;34m\u001b[0m\u001b[0;34m\u001b[0m\u001b[0m\n",
      "\u001b[0;31mKeyboardInterrupt\u001b[0m: "
     ]
    }
   ],
   "source": [
    "filepath = 'logs/curiositytestlogs'\n",
    "\n",
    "hierarchy_steps = []\n",
    "hierarchy_returns = []\n",
    "\n",
    "normal_steps = []\n",
    "normal_returns = []\n",
    "with open(filepath) as fp:\n",
    "    line = fp.readline()\n",
    "    cnt = 1\n",
    "    while line:\n",
    "\n",
    "        line = fp.readline()\n",
    "        line = line.split(':')\n",
    "        if line[0] == 'Frame':\n",
    "            hierarchy_steps.append(int(line[1].strip('Return')))\n",
    "            hierarchy_returns.append(int(line[2].replace('\\n', '')))\n",
    "        elif line[0] == 'Test Frame':\n",
    "            \n",
    "            \n",
    "            step = int(line[1].strip('Return'))\n",
    "            normal_steps.append(step)\n",
    "            normal_returns.append(int(line[2].replace('\\n', '')))\n",
    "            if step < 50000: # for the smooothing\n",
    "                normal_steps.append(step+1)\n",
    "                normal_returns.append(int(line[2].replace('\\n', '')))\n",
    "\n",
    "        \n",
    "        cnt += 1\n"
   ]
  },
  {
   "cell_type": "code",
   "execution_count": 232,
   "metadata": {},
   "outputs": [
    {
     "name": "stdout",
     "output_type": "stream",
     "text": [
      "3332\n"
     ]
    }
   ],
   "source": [
    "\n",
    "    \n",
    "steps = [hierarchy_steps, normal_steps]\n",
    "numbs = [hierarchy_returns, normal_returns]\n",
    "\n",
    "arrays = ['logs/HER_one_layer_object',]\n",
    "\n",
    "\n",
    "for i,a in enumerate(arrays):\n",
    "    event_acc = EventAccumulator(a, size_guidance)\n",
    "    event_acc.Reload()\n",
    "    numbs.append([])\n",
    "    steps.append([])\n",
    "    print(len(event_acc.scalars.Items('Episode_return')))\n",
    "    for event in event_acc.scalars.Items('Episode_return'):\n",
    "        step = event.step\n",
    "        steps[i+len(steps)-1].append(step)\n",
    "        proto = event[2]\n",
    "        \n",
    "        numbs[i+len(steps)-1].append(proto)"
   ]
  },
  {
   "cell_type": "code",
   "execution_count": 234,
   "metadata": {},
   "outputs": [
    {
     "name": "stdout",
     "output_type": "stream",
     "text": [
      "0\n",
      "1\n",
      "2\n"
     ]
    },
    {
     "data": {
      "image/png": "[encoded data removed]",
      "text/plain": [
       "<Figure size 576x432 with 1 Axes>"
      ]
     },
     "metadata": {},
     "output_type": "display_data"
    }
   ],
   "source": [
    "import matplotlib.pyplot as plt\n",
    "from scipy.interpolate import make_interp_spline, BSpline\n",
    "import numpy as np\n",
    "\n",
    "def movingaverage(interval, window_size):\n",
    "    window = numpy.ones(int(window_size))/float(window_size)\n",
    "    return numpy.convolve(interval, window, 'same')\n",
    "import seaborn as sns\n",
    "plt.figure(figsize=(8,6))\n",
    "sns.set_style(\"white\")\n",
    "\n",
    "for i in range(0,len(numbs)):\n",
    "    print(i)\n",
    "    x = np.array(steps[i])\n",
    "    data = np.array(numbs[i])\n",
    "    \n",
    "    window_width = 50\n",
    "    cumsum_vec = np.cumsum(np.insert(data, 0, 0)) \n",
    "    ma_vec = (cumsum_vec[window_width:] - cumsum_vec[:-window_width]) / window_width\n",
    "    \n",
    "    \n",
    "    #plt.plot(x[window_width-1:],ma_vec)\n",
    "    sns.lineplot(x[window_width-1:],ma_vec, ci='sd', err_style='band')\n",
    "    plt.legend(['Hierarchial', 'Single Layer with hierarchial transitions', 'Single Layer'])\n",
    "    #plt.savefig('dimensions.pdf')\n",
    "    plt.xlabel('Steps', fontsize=18)\n",
    "    plt.ylabel('Average Return', fontsize=18)"
   ]
  },
  {
   "cell_type": "code",
   "execution_count": 149,
   "metadata": {},
   "outputs": [
    {
     "data": {
      "text/plain": [
       "<matplotlib.axes._subplots.AxesSubplot at 0x7efcd3547d68>"
      ]
     },
     "execution_count": 149,
     "metadata": {},
     "output_type": "execute_result"
    },
    {
     "data": {
      "image/png": "[encoded data removed]",
      "text/plain": [
       "<Figure size 432x288 with 1 Axes>"
      ]
     },
     "metadata": {},
     "output_type": "display_data"
    }
   ],
   "source": [
    "\n",
    "\n",
    "sns.lineplot(hierarchy_steps, hierarchy_returns, ci='sd', err_style='band')"
   ]
  },
  {
   "cell_type": "code",
   "execution_count": 151,
   "metadata": {},
   "outputs": [],
   "source": [
    "fmri = sns.load_dataset(\"fmri\")"
   ]
  },
  {
   "cell_type": "code",
   "execution_count": 14,
   "metadata": {},
   "outputs": [
    {
     "data": {
      "text/plain": [
       "<_io.TextIOWrapper name='logs/controllable.txt' mode='r' encoding='UTF-8'>"
      ]
     },
     "execution_count": 14,
     "metadata": {},
     "output_type": "execute_result"
    }
   ],
   "source": []
  },
  {
   "cell_type": "code",
   "execution_count": 18,
   "metadata": {},
   "outputs": [
    {
     "name": "stdout",
     "output_type": "stream",
     "text": [
      "Test Frame:  200  Return:  -200\n",
      "\n"
     ]
    },
    {
     "ename": "KeyboardInterrupt",
     "evalue": "",
     "output_type": "error",
     "traceback": [
      "\u001b[0;31m---------------------------------------------------------------------------\u001b[0m",
      "\u001b[0;31mKeyboardInterrupt\u001b[0m                         Traceback (most recent call last)",
      "\u001b[0;32m<ipython-input-18-d6eabd617954>\u001b[0m in \u001b[0;36m<module>\u001b[0;34m\u001b[0m\n\u001b[1;32m     12\u001b[0m     \u001b[0;32mwhile\u001b[0m \u001b[0mline\u001b[0m\u001b[0;34m:\u001b[0m\u001b[0;34m\u001b[0m\u001b[0;34m\u001b[0m\u001b[0m\n\u001b[1;32m     13\u001b[0m \u001b[0;34m\u001b[0m\u001b[0m\n\u001b[0;32m---> 14\u001b[0;31m         \u001b[0mline\u001b[0m \u001b[0;34m=\u001b[0m \u001b[0mfp\u001b[0m\u001b[0;34m.\u001b[0m\u001b[0mreadline\u001b[0m\u001b[0;34m(\u001b[0m\u001b[0;34m)\u001b[0m\u001b[0;34m\u001b[0m\u001b[0;34m\u001b[0m\u001b[0m\n\u001b[0m\u001b[1;32m     15\u001b[0m         \u001b[0mline\u001b[0m \u001b[0;34m=\u001b[0m \u001b[0mline\u001b[0m\u001b[0;34m.\u001b[0m\u001b[0msplit\u001b[0m\u001b[0;34m(\u001b[0m\u001b[0;34m':'\u001b[0m\u001b[0;34m)\u001b[0m\u001b[0;34m\u001b[0m\u001b[0;34m\u001b[0m\u001b[0m\n\u001b[1;32m     16\u001b[0m         \u001b[0;32mif\u001b[0m \u001b[0mline\u001b[0m\u001b[0;34m[\u001b[0m\u001b[0;36m0\u001b[0m\u001b[0;34m]\u001b[0m \u001b[0;34m==\u001b[0m \u001b[0;34m'Test Frame'\u001b[0m\u001b[0;34m:\u001b[0m\u001b[0;34m\u001b[0m\u001b[0;34m\u001b[0m\u001b[0m\n",
      "\u001b[0;32m~/anaconda3/lib/python3.7/codecs.py\u001b[0m in \u001b[0;36mdecode\u001b[0;34m(self, input, final)\u001b[0m\n\u001b[1;32m    317\u001b[0m         \u001b[0;32mraise\u001b[0m \u001b[0mNotImplementedError\u001b[0m\u001b[0;34m\u001b[0m\u001b[0;34m\u001b[0m\u001b[0m\n\u001b[1;32m    318\u001b[0m \u001b[0;34m\u001b[0m\u001b[0m\n\u001b[0;32m--> 319\u001b[0;31m     \u001b[0;32mdef\u001b[0m \u001b[0mdecode\u001b[0m\u001b[0;34m(\u001b[0m\u001b[0mself\u001b[0m\u001b[0;34m,\u001b[0m \u001b[0minput\u001b[0m\u001b[0;34m,\u001b[0m \u001b[0mfinal\u001b[0m\u001b[0;34m=\u001b[0m\u001b[0;32mFalse\u001b[0m\u001b[0;34m)\u001b[0m\u001b[0;34m:\u001b[0m\u001b[0;34m\u001b[0m\u001b[0;34m\u001b[0m\u001b[0m\n\u001b[0m\u001b[1;32m    320\u001b[0m         \u001b[0;31m# decode input (taking the buffer into account)\u001b[0m\u001b[0;34m\u001b[0m\u001b[0;34m\u001b[0m\u001b[0;34m\u001b[0m\u001b[0m\n\u001b[1;32m    321\u001b[0m         \u001b[0mdata\u001b[0m \u001b[0;34m=\u001b[0m \u001b[0mself\u001b[0m\u001b[0;34m.\u001b[0m\u001b[0mbuffer\u001b[0m \u001b[0;34m+\u001b[0m \u001b[0minput\u001b[0m\u001b[0;34m\u001b[0m\u001b[0;34m\u001b[0m\u001b[0m\n",
      "\u001b[0;31mKeyboardInterrupt\u001b[0m: "
     ]
    }
   ],
   "source": [
    "filepath = 'logs/fullstate.txt'\n",
    "\n",
    "hierarchy_steps = []\n",
    "hierarchy_returns = []\n",
    "\n",
    "normal_steps = []\n",
    "normal_returns = []\n",
    "with open(filepath) as fp:\n",
    "    line = fp.readline()\n",
    "    print(line)\n",
    "    cnt = 1\n",
    "    while line:\n",
    "\n",
    "        line = fp.readline()\n",
    "        line = line.split(':')\n",
    "        if line[0] == 'Test Frame':\n",
    "            step = int(line[1].strip('Return'))\n",
    "            normal_steps.append(step)\n",
    "            normal_returns.append(int(line[2].replace('\\n', '')))\n",
    "            \n",
    "\n",
    "        \n",
    "        cnt += 1\n",
    "        \n"
   ]
  },
  {
   "cell_type": "code",
   "execution_count": 19,
   "metadata": {},
   "outputs": [
    {
     "name": "stdout",
     "output_type": "stream",
     "text": [
      "-166.472 0.424\n"
     ]
    }
   ],
   "source": [
    "import numpy as np\n",
    "print(np.array(normal_returns).mean(), sum([x > -200 for x in normal_returns])/len(normal_returns))"
   ]
  },
  {
   "cell_type": "code",
   "execution_count": 10,
   "metadata": {},
   "outputs": [
    {
     "data": {
      "text/plain": [
       "[False,\n",
       " False,\n",
       " False,\n",
       " False,\n",
       " False,\n",
       " False,\n",
       " False,\n",
       " False,\n",
       " False,\n",
       " False,\n",
       " False,\n",
       " False,\n",
       " False,\n",
       " False,\n",
       " False,\n",
       " False,\n",
       " False,\n",
       " False,\n",
       " False,\n",
       " False,\n",
       " False,\n",
       " False,\n",
       " True,\n",
       " False,\n",
       " False,\n",
       " False,\n",
       " False,\n",
       " False,\n",
       " False,\n",
       " False,\n",
       " False,\n",
       " True,\n",
       " False,\n",
       " False,\n",
       " False,\n",
       " False,\n",
       " False,\n",
       " False,\n",
       " False,\n",
       " False,\n",
       " False,\n",
       " False,\n",
       " False,\n",
       " False,\n",
       " False,\n",
       " False,\n",
       " False,\n",
       " False,\n",
       " True,\n",
       " False,\n",
       " True,\n",
       " False,\n",
       " False,\n",
       " False,\n",
       " False,\n",
       " False,\n",
       " False,\n",
       " False,\n",
       " False,\n",
       " False,\n",
       " False,\n",
       " True,\n",
       " False,\n",
       " False,\n",
       " False,\n",
       " False,\n",
       " False,\n",
       " False,\n",
       " False,\n",
       " False,\n",
       " True,\n",
       " False,\n",
       " False,\n",
       " False,\n",
       " False,\n",
       " False,\n",
       " False,\n",
       " False,\n",
       " False,\n",
       " False,\n",
       " False,\n",
       " False,\n",
       " False,\n",
       " False,\n",
       " False,\n",
       " False,\n",
       " False,\n",
       " False,\n",
       " False,\n",
       " False,\n",
       " False,\n",
       " False,\n",
       " False,\n",
       " False,\n",
       " True,\n",
       " False,\n",
       " False,\n",
       " False,\n",
       " False,\n",
       " False,\n",
       " False,\n",
       " False,\n",
       " False,\n",
       " False,\n",
       " False,\n",
       " False,\n",
       " True,\n",
       " False,\n",
       " False,\n",
       " False,\n",
       " False,\n",
       " False,\n",
       " False,\n",
       " False,\n",
       " False,\n",
       " False,\n",
       " True,\n",
       " False,\n",
       " False,\n",
       " False,\n",
       " False,\n",
       " False,\n",
       " False,\n",
       " False,\n",
       " False,\n",
       " True,\n",
       " False,\n",
       " False,\n",
       " False,\n",
       " False,\n",
       " False,\n",
       " False,\n",
       " True,\n",
       " False,\n",
       " True,\n",
       " False,\n",
       " False,\n",
       " False,\n",
       " False,\n",
       " False,\n",
       " False,\n",
       " True,\n",
       " False,\n",
       " False,\n",
       " False]"
      ]
     },
     "execution_count": 10,
     "metadata": {},
     "output_type": "execute_result"
    }
   ],
   "source": [
    "[x > -200 for x in normal_returns]"
   ]
  },
  {
   "cell_type": "code",
   "execution_count": null,
   "metadata": {},
   "outputs": [],
   "source": []
  }
 ],
 "metadata": {
  "kernelspec": {
   "display_name": "Python 3",
   "language": "python",
   "name": "python3"
  },
  "language_info": {
   "codemirror_mode": {
    "name": "ipython",
    "version": 3
   },
   "file_extension": ".py",
   "mimetype": "text/x-python",
   "name": "python",
   "nbconvert_exporter": "python",
   "pygments_lexer": "ipython3",
   "version": "3.7.3"
  }
 },
 "nbformat": 4,
 "nbformat_minor": 2
}
